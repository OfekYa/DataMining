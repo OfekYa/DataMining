{
  "nbformat": 4,
  "nbformat_minor": 0,
  "metadata": {
    "colab": {
      "provenance": [],
      "authorship_tag": "ABX9TyOYEyHhzm4kAHXkg8Tq+t5M",
      "include_colab_link": true
    },
    "kernelspec": {
      "name": "python3",
      "display_name": "Python 3"
    },
    "language_info": {
      "name": "python"
    }
  },
  "cells": [
    {
      "cell_type": "markdown",
      "metadata": {
        "id": "view-in-github",
        "colab_type": "text"
      },
      "source": [
        "<a href=\"https://colab.research.google.com/github/OfekYa/DataMining/blob/main/Artificial_Neural_network.ipynb\" target=\"_parent\"><img src=\"https://colab.research.google.com/assets/colab-badge.svg\" alt=\"Open In Colab\"/></a>"
      ]
    },
    {
      "cell_type": "code",
      "source": [
        "!pip install graphviz\n"
      ],
      "metadata": {
        "id": "qs3D7mPWqEus",
        "colab": {
          "base_uri": "https://localhost:8080/"
        },
        "outputId": "fed63ee7-d1e0-4fe7-af80-620b254dcbc5"
      },
      "execution_count": null,
      "outputs": [
        {
          "output_type": "stream",
          "name": "stdout",
          "text": [
            "Looking in indexes: https://pypi.org/simple, https://us-python.pkg.dev/colab-wheels/public/simple/\n",
            "Requirement already satisfied: graphviz in /usr/local/lib/python3.10/dist-packages (0.20.1)\n"
          ]
        }
      ]
    },
    {
      "cell_type": "code",
      "source": [
        "!pip install keras_sequential_ascii"
      ],
      "metadata": {
        "colab": {
          "base_uri": "https://localhost:8080/"
        },
        "id": "sQAKLHfc2FrS",
        "outputId": "e61c3a83-8cf2-453d-e216-5b22db19c98e"
      },
      "execution_count": null,
      "outputs": [
        {
          "output_type": "stream",
          "name": "stdout",
          "text": [
            "Looking in indexes: https://pypi.org/simple, https://us-python.pkg.dev/colab-wheels/public/simple/\n",
            "Requirement already satisfied: keras_sequential_ascii in /usr/local/lib/python3.10/dist-packages (0.1.1)\n",
            "Requirement already satisfied: keras in /usr/local/lib/python3.10/dist-packages (from keras_sequential_ascii) (2.12.0)\n"
          ]
        }
      ]
    },
    {
      "cell_type": "code",
      "source": [
        "!pip install ann_visualizer\n"
      ],
      "metadata": {
        "colab": {
          "base_uri": "https://localhost:8080/"
        },
        "id": "rky8sVFMpgL3",
        "outputId": "d1185e29-6f89-4620-d59e-ede9c219b881"
      },
      "execution_count": null,
      "outputs": [
        {
          "output_type": "stream",
          "name": "stdout",
          "text": [
            "Looking in indexes: https://pypi.org/simple, https://us-python.pkg.dev/colab-wheels/public/simple/\n",
            "Collecting ann_visualizer\n",
            "  Downloading ann_visualizer-2.5.tar.gz (4.7 kB)\n",
            "  Preparing metadata (setup.py) ... \u001b[?25l\u001b[?25hdone\n",
            "Building wheels for collected packages: ann_visualizer\n",
            "  Building wheel for ann_visualizer (setup.py) ... \u001b[?25l\u001b[?25hdone\n",
            "  Created wheel for ann_visualizer: filename=ann_visualizer-2.5-py3-none-any.whl size=4167 sha256=c8d364c0dd22ce44575983997d7b19344de88dc5300acd70812b0b3559954155\n",
            "  Stored in directory: /root/.cache/pip/wheels/6e/0f/ae/f5dba91db71b1b32bf03d0ad18c32e86126093aba5ec6b6488\n",
            "Successfully built ann_visualizer\n",
            "Installing collected packages: ann_visualizer\n",
            "Successfully installed ann_visualizer-2.5\n"
          ]
        }
      ]
    },
    {
      "cell_type": "code",
      "execution_count": null,
      "metadata": {
        "colab": {
          "base_uri": "https://localhost:8080/"
        },
        "id": "EmsBleA4IkQ5",
        "outputId": "77b3560b-1ca5-46c3-c413-9439db83ce31"
      },
      "outputs": [
        {
          "output_type": "stream",
          "name": "stdout",
          "text": [
            "Drive already mounted at /content/drive; to attempt to forcibly remount, call drive.mount(\"/content/drive\", force_remount=True).\n"
          ]
        }
      ],
      "source": [
        "import pandas as pd\n",
        "import seaborn as sns\n",
        "import numpy as np\n",
        "import tensorflow as tf\n",
        "import matplotlib.pyplot as plt\n",
        "\n",
        "from sklearn.model_selection import train_test_split\n",
        "from sklearn import metrics\n",
        "from sklearn.metrics import accuracy_score, confusion_matrix, precision_score, recall_score, classification_report\n",
        "from google.colab import drive\n",
        "drive.mount('/content/drive')\n"
      ]
    },
    {
      "cell_type": "code",
      "source": [
        "file_path_bd = '/content/drive/MyDrive/Colab Notebooks//Data Mining/full_data.csv' \n",
        "\n",
        "df_bd = pd.read_csv(file_path_bd, index_col=0)\n",
        "df_bd[df_bd.columns[-1]].replace({'ckd':0,'notckd':1},inplace=True)\n",
        "df_bd = pd.get_dummies(df_bd, drop_first=True)\n",
        "\n",
        "X_bd, y_bd = df_bd[df_bd.columns[:-1]], df_bd[df_bd.columns[-1]]\n",
        "X_train_bd, X_test_bd, y_train_bd, y_test_bd = train_test_split(X_bd, y_bd, test_size=0.33)"
      ],
      "metadata": {
        "id": "fCYDl3G3JDPj"
      },
      "execution_count": null,
      "outputs": []
    },
    {
      "cell_type": "code",
      "source": [
        "file_path_ad = '/content/drive/MyDrive/Colab Notebooks//Data Mining/full_data_after_Discretization.csv'\n",
        "\n",
        "df_ad = pd.read_csv(file_path_ad, index_col=0)\n",
        "#print(df_ad[df_ad.columns[-1]].head())\n",
        "df_ad[df_ad.columns[-1]].replace({'ckd':0,'notckd':1},inplace=True)\n",
        "#print(df_ad[df_ad.columns[-1]].head())\n",
        "df_ad = pd.get_dummies(df_ad, drop_first=True)\n",
        "\n",
        "X_ad, y_ad = df_ad[df_ad.columns[:-1]], df_ad[df_ad.columns[-1]]\n",
        "\n",
        "X_train_ad, X_test_ad, y_train_ad, y_test_ad = train_test_split(X_ad, y_ad, test_size=0.33, shuffle=True)\n",
        "#print(df_ad[df_ad.columns[-1]].head())\n"
      ],
      "metadata": {
        "id": "vXIlZkdAJKsc"
      },
      "execution_count": null,
      "outputs": []
    },
    {
      "cell_type": "code",
      "source": [
        "from tensorflow.keras.layers import Dense,Activation\n",
        "from tensorflow.keras.models import Sequential \n",
        "from tensorflow.keras.callbacks import EarlyStopping  \n",
        "from sklearn.preprocessing import StandardScaler\n"
      ],
      "metadata": {
        "id": "O3RyuHOAf8is"
      },
      "execution_count": null,
      "outputs": []
    },
    {
      "cell_type": "code",
      "source": [
        "import keras.backend as K\n"
      ],
      "metadata": {
        "id": "P5r9qxlfmLUi"
      },
      "execution_count": null,
      "outputs": []
    },
    {
      "cell_type": "code",
      "source": [
        "\n",
        "callbacks = tf.keras.callbacks.EarlyStopping(\n",
        "    monitor=\"val_loss\",\n",
        "    min_delta=0,\n",
        "    patience=0,\n",
        "    verbose=0,\n",
        "    mode=\"auto\",\n",
        "    baseline=None,\n",
        "    restore_best_weights=False,\n",
        ")\n",
        "\n",
        "def train_ANN(X_train, Y_train,X_test, Y_test, epochs=100):\n",
        "    BATCH_SIZE=32\n",
        "    EPOCHS = epochs\n",
        "    IN_FEATURES = len(X_train.columns)\n",
        "    \n",
        "    print(\"shape of training data: \",X_train.shape)\n",
        "\n",
        "    sc = StandardScaler()\n",
        "    X_train = sc.fit_transform(X_train)\n",
        "\n",
        "    model = Sequential()\n",
        "  \n",
        "    #Adding First Hidden Layer\n",
        "    model.add(tf.keras.layers.Dense(units=IN_FEATURES ,input_dim=IN_FEATURES ,activation=\"relu\" ,use_bias=True))\n",
        "\n",
        "    #Adding Second Hidden Layer\n",
        "    model.add(tf.keras.layers.Dense(units=IN_FEATURES ,activation=\"relu\"))\n",
        "\n",
        "    #Adding Output Layer\n",
        "    model.add(tf.keras.layers.Dense(units=1,activation=\"sigmoid\"))\n",
        "\n",
        "    #Compiling ANN\n",
        "    model.compile(optimizer=\"adam\",loss=\"binary_crossentropy\",metrics=['accuracy'])\n",
        "    print(K.eval(model.optimizer.lr))\n",
        "\n",
        "    #Fitting ANN\n",
        "    model.fit(X_train, Y_train, batch_size=BATCH_SIZE, validation_split=0.2, epochs=EPOCHS, verbose=0,callbacks=[callbacks])\n",
        "   \n",
        "    plt.style.use('ggplot')\n",
        "\n",
        "    plt.plot(model.history.history['accuracy'], label='Accuracy')\n",
        "    plt.plot(model.history.history['loss'] ,label='Loss')     \n",
        "    plt.plot(model.history.history['val_accuracy'], label='val_Accuracy')\n",
        "    plt.plot(model.history.history['val_loss'] ,label='val_Loss')\n",
        "    plt.title('Model Loss and Accuracy')\n",
        "    plt.ylabel('Accuracy and Loss')\n",
        "    plt.xlabel('Epochs')   \n",
        "    plt.legend();\n",
        "    plt.show()\n",
        "\n",
        "    hist_df = pd.DataFrame(model.history.history)\n",
        "    hist_df['epoch'] = hist_df.index + 1\n",
        "    cols = list(hist_df.columns)\n",
        "    cols = [cols[-1]] + cols[:-1]\n",
        "    hist_df = hist_df[cols]\n",
        "    #hist_df.to_csv(checkpoint_no + '/' + 'history_df_' + model_name + '.csv')\n",
        "    print(hist_df.head(100))\n",
        "    values_of_best_model = hist_df[hist_df.val_loss == hist_df.val_loss.min()]\n",
        "    print('\\n   values_of_best_model: \\n',values_of_best_model)\n",
        "\n",
        "    return model, sc"
      ],
      "metadata": {
        "id": "Ws4xhiDP3MXt"
      },
      "execution_count": null,
      "outputs": []
    },
    {
      "cell_type": "code",
      "source": [
        "ann_ad, sc_ad = train_ANN(X_train_ad, y_train_ad, X_test_ad, y_test_ad, epochs=100)"
      ],
      "metadata": {
        "id": "lkIciQLX36op",
        "colab": {
          "base_uri": "https://localhost:8080/",
          "height": 1000
        },
        "outputId": "47be0e29-e27b-4f7c-dbc0-82075c359460"
      },
      "execution_count": null,
      "outputs": [
        {
          "output_type": "stream",
          "name": "stdout",
          "text": [
            "shape of training data:  (268, 29)\n",
            "0.001\n"
          ]
        },
        {
          "output_type": "display_data",
          "data": {
            "text/plain": [
              "<Figure size 640x480 with 1 Axes>"
            ],
            "image/png": "[encoded data removed]"
          },
          "metadata": {}
        },
        {
          "output_type": "stream",
          "name": "stdout",
          "text": [
            "    epoch      loss  accuracy  val_loss  val_accuracy\n",
            "0       1  1.106617  0.182243  0.957930      0.222222\n",
            "1       2  0.905346  0.238318  0.804904      0.351852\n",
            "2       3  0.764220  0.471963  0.688044      0.629630\n",
            "3       4  0.657675  0.658879  0.602039      0.759259\n",
            "4       5  0.577423  0.794393  0.537506      0.851852\n",
            "5       6  0.513894  0.859813  0.485086      0.833333\n",
            "6       7  0.464365  0.873832  0.440963      0.907407\n",
            "7       8  0.422018  0.869159  0.404377      0.907407\n",
            "8       9  0.386232  0.869159  0.375010      0.907407\n",
            "9      10  0.358104  0.873832  0.349558      0.907407\n",
            "10     11  0.333951  0.873832  0.330365      0.907407\n",
            "11     12  0.314584  0.883178  0.313367      0.907407\n",
            "12     13  0.297748  0.897196  0.298866      0.907407\n",
            "13     14  0.284044  0.897196  0.286585      0.907407\n",
            "14     15  0.271866  0.901869  0.277252      0.907407\n",
            "15     16  0.261627  0.901869  0.269587      0.888889\n",
            "16     17  0.252107  0.906542  0.262432      0.888889\n",
            "17     18  0.243539  0.911215  0.256780      0.870370\n",
            "18     19  0.235929  0.911215  0.251000      0.870370\n",
            "19     20  0.228320  0.920561  0.246534      0.870370\n",
            "20     21  0.221112  0.920561  0.243370      0.870370\n",
            "21     22  0.214134  0.920561  0.238815      0.870370\n",
            "22     23  0.207651  0.920561  0.234367      0.870370\n",
            "23     24  0.200721  0.920561  0.231375      0.870370\n",
            "24     25  0.194786  0.915888  0.229383      0.870370\n",
            "25     26  0.188775  0.915888  0.227082      0.888889\n",
            "26     27  0.183407  0.925234  0.224652      0.888889\n",
            "27     28  0.178103  0.925234  0.223120      0.888889\n",
            "28     29  0.173405  0.925234  0.222007      0.888889\n",
            "29     30  0.168699  0.925234  0.220013      0.888889\n",
            "30     31  0.163967  0.934579  0.219112      0.888889\n",
            "31     32  0.159921  0.934579  0.219038      0.888889\n",
            "32     33  0.155602  0.939252  0.217001      0.907407\n",
            "33     34  0.151217  0.939252  0.217265      0.907407\n",
            "\n",
            "   values_of_best_model: \n",
            "     epoch      loss  accuracy  val_loss  val_accuracy\n",
            "32     33  0.155602  0.939252  0.217001      0.907407\n"
          ]
        }
      ]
    },
    {
      "cell_type": "code",
      "source": [
        "ann_ad.summary()"
      ],
      "metadata": {
        "colab": {
          "base_uri": "https://localhost:8080/"
        },
        "id": "FVsNk4peEDkD",
        "outputId": "9cc25e97-3b4c-47a8-eea6-7239df1e7a85"
      },
      "execution_count": null,
      "outputs": [
        {
          "output_type": "stream",
          "name": "stdout",
          "text": [
            "Model: \"sequential_84\"\n",
            "_________________________________________________________________\n",
            " Layer (type)                Output Shape              Param #   \n",
            "=================================================================\n",
            " dense_252 (Dense)           (None, 29)                870       \n",
            "                                                                 \n",
            " dense_253 (Dense)           (None, 29)                870       \n",
            "                                                                 \n",
            " dense_254 (Dense)           (None, 1)                 30        \n",
            "                                                                 \n",
            "=================================================================\n",
            "Total params: 1,770\n",
            "Trainable params: 1,770\n",
            "Non-trainable params: 0\n",
            "_________________________________________________________________\n"
          ]
        }
      ]
    },
    {
      "cell_type": "code",
      "source": [
        "from keras_sequential_ascii import keras2ascii\n",
        "keras2ascii(ann_ad)\n"
      ],
      "metadata": {
        "colab": {
          "base_uri": "https://localhost:8080/"
        },
        "id": "kJ6tsG6U2DIY",
        "outputId": "79839256-ed55-4420-e54b-49caf2ac3ff8"
      },
      "execution_count": null,
      "outputs": [
        {
          "output_type": "stream",
          "name": "stdout",
          "text": [
            "           OPERATION           DATA DIMENSIONS   WEIGHTS(N)   WEIGHTS(%)\n",
            "\n",
            "               Input   #####          29\n",
            "               Dense   XXXXX -------------------       870    49.2%\n",
            "                relu   #####          29\n",
            "               Dense   XXXXX -------------------       870    49.2%\n",
            "                relu   #####          29\n",
            "               Dense   XXXXX -------------------        30     1.7%\n",
            "             sigmoid   #####           1\n"
          ]
        }
      ]
    },
    {
      "cell_type": "code",
      "source": [
        "import graphviz"
      ],
      "metadata": {
        "id": "0D3Mb4zIsbHX"
      },
      "execution_count": null,
      "outputs": []
    },
    {
      "cell_type": "code",
      "source": [
        "from ann_visualizer.visualize import ann_viz;\n",
        "\n",
        "ann_viz(ann_ad, title=\"My neural network\", filename='network.gv',view=True, );\n",
        "graph_file = graphviz.Source.from_file('network.gv')\n",
        "graph_file"
      ],
      "metadata": {
        "id": "a3TsgXdarZ_b",
        "colab": {
          "base_uri": "https://localhost:8080/",
          "height": 1000
        },
        "outputId": "d365906b-3f5e-4500-a1ff-489dd04e6a10"
      },
      "execution_count": null,
      "outputs": [
        {
          "output_type": "execute_result",
          "data": {
            "image/svg+xml": "<?xml version=\"1.0\" encoding=\"UTF-8\" standalone=\"no\"?>\n<!DOCTYPE svg PUBLIC \"-//W3C//DTD SVG 1.1//EN\"\n \"http://www.w3.org/Graphics/SVG/1.1/DTD/svg11.dtd\">\n<!-- Generated by graphviz version 2.43.0 (0)\n -->\n<!-- Title: g Pages: 1 -->\n<svg width=\"1077pt\" height=\"737pt\"\n viewBox=\"0.00 0.00 1077.00 736.99\" xmlns=\"http://www.w3.org/2000/svg\" xmlns:xlink=\"http://www.w3.org/1999/xlink\">\n<g id=\"graph0\" class=\"graph\" transform=\"scale(1 1) rotate(0) translate(4 732.99)\">\n<title>g</title>\n<polygon fill=\"white\" stroke=\"transparent\" points=\"-4,4 -4,-732.99 1073,-732.99 1073,4 -4,4\"/>\n<g id=\"clust1\" class=\"cluster\">\n<title>cluster_input</title>\n<polygon fill=\"none\" stroke=\"white\" points=\"22,-579.99 22,-720.99 1048,-720.99 1048,-579.99 22,-579.99\"/>\n<text text-anchor=\"middle\" x=\"535\" y=\"-705.79\" font-family=\"Times,serif\" font-size=\"14.00\">My neural network</text>\n<text text-anchor=\"middle\" x=\"535\" y=\"-642.79\" font-family=\"Times,serif\" font-size=\"14.00\">Input Layer (+19)</text>\n</g>\n<g id=\"clust2\" class=\"cluster\">\n<title>cluster_1</title>\n<polygon fill=\"none\" stroke=\"white\" points=\"8,-373.99 8,-451.99 1061,-451.99 1061,-373.99 8,-373.99\"/>\n<text text-anchor=\"middle\" x=\"1035.5\" y=\"-381.79\" font-family=\"Times,serif\" font-size=\"14.00\"> (+19)</text>\n</g>\n<g id=\"clust3\" class=\"cluster\">\n<title>cluster_2</title>\n<polygon fill=\"none\" stroke=\"white\" points=\"8,-191 8,-268.99 1061,-268.99 1061,-191 8,-191\"/>\n<text text-anchor=\"middle\" x=\"1035.5\" y=\"-198.8\" font-family=\"Times,serif\" font-size=\"14.00\"> (+19)</text>\n</g>\n<g id=\"clust4\" class=\"cluster\">\n<title>cluster_output</title>\n<polygon fill=\"none\" stroke=\"white\" points=\"490,-8 490,-86 579,-86 579,-8 490,-8\"/>\n<text text-anchor=\"middle\" x=\"534.5\" y=\"-15.8\" font-family=\"Times,serif\" font-size=\"14.00\">Output Layer</text>\n</g>\n<!-- 1 -->\n<g id=\"node1\" class=\"node\">\n<title>1</title>\n<ellipse fill=\"#2ecc71\" stroke=\"#2ecc71\" cx=\"588\" cy=\"-607.49\" rx=\"18\" ry=\"18\"/>\n<text text-anchor=\"middle\" x=\"588\" y=\"-603.79\" font-family=\"Times,serif\" font-size=\"14.00\" fill=\"#2ecc71\">1</text>\n</g>\n<!-- 11 -->\n<g id=\"node11\" class=\"node\">\n<title>11</title>\n<ellipse fill=\"#3498db\" stroke=\"#3498db\" cx=\"146\" cy=\"-424.49\" rx=\"19.5\" ry=\"19.5\"/>\n<text text-anchor=\"middle\" x=\"146\" y=\"-420.79\" font-family=\"Times,serif\" font-size=\"14.00\" fill=\"#3498db\">11</text>\n</g>\n<!-- 1&#45;&gt;11 -->\n<g id=\"edge1\" class=\"edge\">\n<title>1&#45;&gt;11</title>\n<path fill=\"none\" stroke=\"#707070\" d=\"M571.48,-599.72C502.21,-571.36 235.45,-462.12 163.8,-432.78\"/>\n</g>\n<!-- 12 -->\n<g id=\"node12\" class=\"node\">\n<title>12</title>\n<ellipse fill=\"#3498db\" stroke=\"#3498db\" cx=\"35\" cy=\"-424.49\" rx=\"19.5\" ry=\"19.5\"/>\n<text text-anchor=\"middle\" x=\"35\" y=\"-420.79\" font-family=\"Times,serif\" font-size=\"14.00\" fill=\"#3498db\">12</text>\n</g>\n<!-- 1&#45;&gt;12 -->\n<g id=\"edge11\" class=\"edge\">\n<title>1&#45;&gt;12</title>\n<path fill=\"none\" stroke=\"#707070\" d=\"M571.15,-600.97C489.78,-574.34 138.04,-459.22 53.38,-431.51\"/>\n</g>\n<!-- 13 -->\n<g id=\"node13\" class=\"node\">\n<title>13</title>\n<ellipse fill=\"#3498db\" stroke=\"#3498db\" cx=\"1034\" cy=\"-424.49\" rx=\"19.5\" ry=\"19.5\"/>\n<text text-anchor=\"middle\" x=\"1034\" y=\"-420.79\" font-family=\"Times,serif\" font-size=\"14.00\" fill=\"#3498db\">13</text>\n</g>\n<!-- 1&#45;&gt;13 -->\n<g id=\"edge21\" class=\"edge\">\n<title>1&#45;&gt;13</title>\n<path fill=\"none\" stroke=\"#707070\" d=\"M604.4,-599.83C673.87,-571.64 943.56,-462.2 1016,-432.8\"/>\n</g>\n<!-- 14 -->\n<g id=\"node14\" class=\"node\">\n<title>14</title>\n<ellipse fill=\"#3498db\" stroke=\"#3498db\" cx=\"923\" cy=\"-424.49\" rx=\"19.5\" ry=\"19.5\"/>\n<text text-anchor=\"middle\" x=\"923\" y=\"-420.79\" font-family=\"Times,serif\" font-size=\"14.00\" fill=\"#3498db\">14</text>\n</g>\n<!-- 1&#45;&gt;14 -->\n<g id=\"edge31\" class=\"edge\">\n<title>1&#45;&gt;14</title>\n<path fill=\"none\" stroke=\"#707070\" d=\"M603.71,-598C659.59,-567.81 848.48,-465.75 906.14,-434.6\"/>\n</g>\n<!-- 15 -->\n<g id=\"node15\" class=\"node\">\n<title>15</title>\n<ellipse fill=\"#3498db\" stroke=\"#3498db\" cx=\"812\" cy=\"-424.49\" rx=\"19.5\" ry=\"19.5\"/>\n<text text-anchor=\"middle\" x=\"812\" y=\"-420.79\" font-family=\"Times,serif\" font-size=\"14.00\" fill=\"#3498db\">15</text>\n</g>\n<!-- 1&#45;&gt;15 -->\n<g id=\"edge41\" class=\"edge\">\n<title>1&#45;&gt;15</title>\n<path fill=\"none\" stroke=\"#707070\" d=\"M601.68,-595.44C641.28,-563.43 755.89,-470.83 797.06,-437.57\"/>\n</g>\n<!-- 16 -->\n<g id=\"node16\" class=\"node\">\n<title>16</title>\n<ellipse fill=\"#3498db\" stroke=\"#3498db\" cx=\"701\" cy=\"-424.49\" rx=\"19.5\" ry=\"19.5\"/>\n<text text-anchor=\"middle\" x=\"701\" y=\"-420.79\" font-family=\"Times,serif\" font-size=\"14.00\" fill=\"#3498db\">16</text>\n</g>\n<!-- 1&#45;&gt;16 -->\n<g id=\"edge51\" class=\"edge\">\n<title>1&#45;&gt;16</title>\n<path fill=\"none\" stroke=\"#707070\" d=\"M597.25,-591.68C618.23,-558.07 669.28,-476.29 690.98,-441.54\"/>\n</g>\n<!-- 17 -->\n<g id=\"node17\" class=\"node\">\n<title>17</title>\n<ellipse fill=\"#3498db\" stroke=\"#3498db\" cx=\"590\" cy=\"-424.49\" rx=\"19.5\" ry=\"19.5\"/>\n<text text-anchor=\"middle\" x=\"590\" y=\"-420.79\" font-family=\"Times,serif\" font-size=\"14.00\" fill=\"#3498db\">17</text>\n</g>\n<!-- 1&#45;&gt;17 -->\n<g id=\"edge61\" class=\"edge\">\n<title>1&#45;&gt;17</title>\n<path fill=\"none\" stroke=\"#707070\" d=\"M588.19,-589.46C588.56,-555.49 589.4,-479.55 589.79,-444.22\"/>\n</g>\n<!-- 18 -->\n<g id=\"node18\" class=\"node\">\n<title>18</title>\n<ellipse fill=\"#3498db\" stroke=\"#3498db\" cx=\"479\" cy=\"-424.49\" rx=\"19.5\" ry=\"19.5\"/>\n<text text-anchor=\"middle\" x=\"479\" y=\"-420.79\" font-family=\"Times,serif\" font-size=\"14.00\" fill=\"#3498db\">18</text>\n</g>\n<!-- 1&#45;&gt;18 -->\n<g id=\"edge71\" class=\"edge\">\n<title>1&#45;&gt;18</title>\n<path fill=\"none\" stroke=\"#707070\" d=\"M579.08,-591.68C558.84,-558.07 509.59,-476.29 488.67,-441.54\"/>\n</g>\n<!-- 19 -->\n<g id=\"node19\" class=\"node\">\n<title>19</title>\n<ellipse fill=\"#3498db\" stroke=\"#3498db\" cx=\"368\" cy=\"-424.49\" rx=\"19.5\" ry=\"19.5\"/>\n<text text-anchor=\"middle\" x=\"368\" y=\"-420.79\" font-family=\"Times,serif\" font-size=\"14.00\" fill=\"#3498db\">19</text>\n</g>\n<!-- 1&#45;&gt;19 -->\n<g id=\"edge81\" class=\"edge\">\n<title>1&#45;&gt;19</title>\n<path fill=\"none\" stroke=\"#707070\" d=\"M574.57,-595.44C535.67,-563.43 423.11,-470.83 382.68,-437.57\"/>\n</g>\n<!-- 20 -->\n<g id=\"node20\" class=\"node\">\n<title>20</title>\n<ellipse fill=\"#3498db\" stroke=\"#3498db\" cx=\"257\" cy=\"-424.49\" rx=\"19.5\" ry=\"19.5\"/>\n<text text-anchor=\"middle\" x=\"257\" y=\"-420.79\" font-family=\"Times,serif\" font-size=\"14.00\" fill=\"#3498db\">20</text>\n</g>\n<!-- 1&#45;&gt;20 -->\n<g id=\"edge91\" class=\"edge\">\n<title>1&#45;&gt;20</title>\n<path fill=\"none\" stroke=\"#707070\" d=\"M572.48,-598C517.39,-567.88 331.49,-466.23 274.05,-434.82\"/>\n</g>\n<!-- 2 -->\n<g id=\"node2\" class=\"node\">\n<title>2</title>\n<ellipse fill=\"#2ecc71\" stroke=\"#2ecc71\" cx=\"480\" cy=\"-607.49\" rx=\"18\" ry=\"18\"/>\n<text text-anchor=\"middle\" x=\"480\" y=\"-603.79\" font-family=\"Times,serif\" font-size=\"14.00\" fill=\"#2ecc71\">2</text>\n</g>\n<!-- 2&#45;&gt;11 -->\n<g id=\"edge2\" class=\"edge\">\n<title>2&#45;&gt;11</title>\n<path fill=\"none\" stroke=\"#707070\" d=\"M464.34,-598C408.62,-567.81 220.3,-465.75 162.81,-434.6\"/>\n</g>\n<!-- 2&#45;&gt;12 -->\n<g id=\"edge12\" class=\"edge\">\n<title>2&#45;&gt;12</title>\n<path fill=\"none\" stroke=\"#707070\" d=\"M463.63,-599.83C394.33,-571.64 125.24,-462.2 52.96,-432.8\"/>\n</g>\n<!-- 2&#45;&gt;13 -->\n<g id=\"edge22\" class=\"edge\">\n<title>2&#45;&gt;13</title>\n<path fill=\"none\" stroke=\"#707070\" d=\"M496.88,-600.97C578.39,-574.34 930.77,-459.22 1015.59,-431.51\"/>\n</g>\n<!-- 2&#45;&gt;14 -->\n<g id=\"edge32\" class=\"edge\">\n<title>2&#45;&gt;14</title>\n<path fill=\"none\" stroke=\"#707070\" d=\"M496.29,-599.83C565.29,-571.64 833.16,-462.2 905.12,-432.8\"/>\n</g>\n<!-- 2&#45;&gt;15 -->\n<g id=\"edge42\" class=\"edge\">\n<title>2&#45;&gt;15</title>\n<path fill=\"none\" stroke=\"#707070\" d=\"M495.57,-598C550.95,-567.81 738.15,-465.75 795.29,-434.6\"/>\n</g>\n<!-- 2&#45;&gt;16 -->\n<g id=\"edge52\" class=\"edge\">\n<title>2&#45;&gt;16</title>\n<path fill=\"none\" stroke=\"#707070\" d=\"M493.49,-595.44C532.57,-563.43 645.64,-470.83 686.26,-437.57\"/>\n</g>\n<!-- 2&#45;&gt;17 -->\n<g id=\"edge62\" class=\"edge\">\n<title>2&#45;&gt;17</title>\n<path fill=\"none\" stroke=\"#707070\" d=\"M489,-591.68C509.42,-558.07 559.13,-476.29 580.25,-441.54\"/>\n</g>\n<!-- 2&#45;&gt;18 -->\n<g id=\"edge72\" class=\"edge\">\n<title>2&#45;&gt;18</title>\n<path fill=\"none\" stroke=\"#707070\" d=\"M479.91,-589.46C479.72,-555.49 479.3,-479.55 479.1,-444.22\"/>\n</g>\n<!-- 2&#45;&gt;19 -->\n<g id=\"edge82\" class=\"edge\">\n<title>2&#45;&gt;19</title>\n<path fill=\"none\" stroke=\"#707070\" d=\"M470.83,-591.68C450.04,-558.07 399.44,-476.29 377.93,-441.54\"/>\n</g>\n<!-- 2&#45;&gt;20 -->\n<g id=\"edge92\" class=\"edge\">\n<title>2&#45;&gt;20</title>\n<path fill=\"none\" stroke=\"#707070\" d=\"M466.39,-595.44C426.95,-563.43 312.86,-470.83 271.88,-437.57\"/>\n</g>\n<!-- 3 -->\n<g id=\"node3\" class=\"node\">\n<title>3</title>\n<ellipse fill=\"#2ecc71\" stroke=\"#2ecc71\" cx=\"372\" cy=\"-607.49\" rx=\"18\" ry=\"18\"/>\n<text text-anchor=\"middle\" x=\"372\" y=\"-603.79\" font-family=\"Times,serif\" font-size=\"14.00\" fill=\"#2ecc71\">3</text>\n</g>\n<!-- 3&#45;&gt;11 -->\n<g id=\"edge3\" class=\"edge\">\n<title>3&#45;&gt;11</title>\n<path fill=\"none\" stroke=\"#707070\" d=\"M358.2,-595.44C318.14,-563.36 202.06,-470.39 160.78,-437.33\"/>\n</g>\n<!-- 3&#45;&gt;12 -->\n<g id=\"edge13\" class=\"edge\">\n<title>3&#45;&gt;12</title>\n<path fill=\"none\" stroke=\"#707070\" d=\"M356.2,-598C299.98,-567.81 109.97,-465.75 51.96,-434.6\"/>\n</g>\n<!-- 3&#45;&gt;13 -->\n<g id=\"edge23\" class=\"edge\">\n<title>3&#45;&gt;13</title>\n<path fill=\"none\" stroke=\"#707070\" d=\"M389.37,-601.74C482.19,-576.36 919.13,-456.9 1015.26,-430.61\"/>\n</g>\n<!-- 3&#45;&gt;14 -->\n<g id=\"edge33\" class=\"edge\">\n<title>3&#45;&gt;14</title>\n<path fill=\"none\" stroke=\"#707070\" d=\"M388.79,-600.97C469.86,-574.34 820.33,-459.22 904.69,-431.51\"/>\n</g>\n<!-- 3&#45;&gt;15 -->\n<g id=\"edge43\" class=\"edge\">\n<title>3&#45;&gt;15</title>\n<path fill=\"none\" stroke=\"#707070\" d=\"M388.45,-599.72C457.4,-571.36 722.96,-462.12 794.28,-432.78\"/>\n</g>\n<!-- 3&#45;&gt;16 -->\n<g id=\"edge53\" class=\"edge\">\n<title>3&#45;&gt;16</title>\n<path fill=\"none\" stroke=\"#707070\" d=\"M387.43,-598C442.18,-567.88 626.96,-466.23 684.05,-434.82\"/>\n</g>\n<!-- 3&#45;&gt;17 -->\n<g id=\"edge63\" class=\"edge\">\n<title>3&#45;&gt;17</title>\n<path fill=\"none\" stroke=\"#707070\" d=\"M385.64,-595.17C424.41,-562.97 535.09,-471.08 575.23,-437.75\"/>\n</g>\n<!-- 3&#45;&gt;18 -->\n<g id=\"edge73\" class=\"edge\">\n<title>3&#45;&gt;18</title>\n<path fill=\"none\" stroke=\"#707070\" d=\"M380.76,-591.68C400.62,-558.07 448.97,-476.29 469.51,-441.54\"/>\n</g>\n<!-- 3&#45;&gt;19 -->\n<g id=\"edge83\" class=\"edge\">\n<title>3&#45;&gt;19</title>\n<path fill=\"none\" stroke=\"#707070\" d=\"M371.62,-589.46C370.87,-555.49 369.19,-479.55 368.41,-444.22\"/>\n</g>\n<!-- 3&#45;&gt;20 -->\n<g id=\"edge93\" class=\"edge\">\n<title>3&#45;&gt;20</title>\n<path fill=\"none\" stroke=\"#707070\" d=\"M362.78,-591.98C341.52,-558.51 289.15,-476.1 267.08,-441.35\"/>\n</g>\n<!-- 4 -->\n<g id=\"node4\" class=\"node\">\n<title>4</title>\n<ellipse fill=\"#2ecc71\" stroke=\"#2ecc71\" cx=\"264\" cy=\"-607.49\" rx=\"18\" ry=\"18\"/>\n<text text-anchor=\"middle\" x=\"264\" y=\"-603.79\" font-family=\"Times,serif\" font-size=\"14.00\" fill=\"#2ecc71\">4</text>\n</g>\n<!-- 4&#45;&gt;11 -->\n<g id=\"edge4\" class=\"edge\">\n<title>4&#45;&gt;11</title>\n<path fill=\"none\" stroke=\"#707070\" d=\"M254.54,-591.98C232.72,-558.51 178.99,-476.1 156.34,-441.35\"/>\n</g>\n<!-- 4&#45;&gt;12 -->\n<g id=\"edge14\" class=\"edge\">\n<title>4&#45;&gt;12</title>\n<path fill=\"none\" stroke=\"#707070\" d=\"M250.36,-595.71C210.11,-563.9 92.04,-470.57 50.04,-437.38\"/>\n</g>\n<!-- 4&#45;&gt;13 -->\n<g id=\"edge24\" class=\"edge\">\n<title>4&#45;&gt;13</title>\n<path fill=\"none\" stroke=\"#707070\" d=\"M281.53,-602.37C384.39,-578.19 908.69,-454.95 1015.13,-429.93\"/>\n</g>\n<!-- 4&#45;&gt;14 -->\n<g id=\"edge34\" class=\"edge\">\n<title>4&#45;&gt;14</title>\n<path fill=\"none\" stroke=\"#707070\" d=\"M281.29,-601.74C373.69,-576.36 808.65,-456.9 904.35,-430.61\"/>\n</g>\n<!-- 4&#45;&gt;15 -->\n<g id=\"edge44\" class=\"edge\">\n<title>4&#45;&gt;15</title>\n<path fill=\"none\" stroke=\"#707070\" d=\"M281,-600.87C362.12,-574.08 709.33,-459.4 793.54,-431.59\"/>\n</g>\n<!-- 4&#45;&gt;16 -->\n<g id=\"edge54\" class=\"edge\">\n<title>4&#45;&gt;16</title>\n<path fill=\"none\" stroke=\"#707070\" d=\"M280.33,-599.72C348.67,-571.42 611.37,-462.61 682.92,-432.98\"/>\n</g>\n<!-- 4&#45;&gt;17 -->\n<g id=\"edge64\" class=\"edge\">\n<title>4&#45;&gt;17</title>\n<path fill=\"none\" stroke=\"#707070\" d=\"M279.72,-597.76C334.54,-567.32 516.94,-466.06 573.28,-434.78\"/>\n</g>\n<!-- 4&#45;&gt;18 -->\n<g id=\"edge74\" class=\"edge\">\n<title>4&#45;&gt;18</title>\n<path fill=\"none\" stroke=\"#707070\" d=\"M277.45,-595.17C315.69,-562.97 424.85,-471.08 464.43,-437.75\"/>\n</g>\n<!-- 4&#45;&gt;19 -->\n<g id=\"edge84\" class=\"edge\">\n<title>4&#45;&gt;19</title>\n<path fill=\"none\" stroke=\"#707070\" d=\"M272.69,-591.37C292.07,-557.64 338.7,-476.49 358.67,-441.73\"/>\n</g>\n<!-- 4&#45;&gt;20 -->\n<g id=\"edge94\" class=\"edge\">\n<title>4&#45;&gt;20</title>\n<path fill=\"none\" stroke=\"#707070\" d=\"M263.34,-589.46C262.03,-555.49 259.09,-479.55 257.72,-444.22\"/>\n</g>\n<!-- 5 -->\n<g id=\"node5\" class=\"node\">\n<title>5</title>\n<ellipse fill=\"#2ecc71\" stroke=\"#2ecc71\" cx=\"156\" cy=\"-607.49\" rx=\"18\" ry=\"18\"/>\n<text text-anchor=\"middle\" x=\"156\" y=\"-603.79\" font-family=\"Times,serif\" font-size=\"14.00\" fill=\"#2ecc71\">5</text>\n</g>\n<!-- 5&#45;&gt;11 -->\n<g id=\"edge5\" class=\"edge\">\n<title>5&#45;&gt;11</title>\n<path fill=\"none\" stroke=\"#707070\" d=\"M155.06,-589.46C153.18,-555.49 148.99,-479.55 147.03,-444.22\"/>\n</g>\n<!-- 5&#45;&gt;12 -->\n<g id=\"edge15\" class=\"edge\">\n<title>5&#45;&gt;12</title>\n<path fill=\"none\" stroke=\"#707070\" d=\"M146.3,-591.98C123.87,-558.43 68.55,-475.68 45.43,-441.09\"/>\n</g>\n<!-- 5&#45;&gt;13 -->\n<g id=\"edge25\" class=\"edge\">\n<title>5&#45;&gt;13</title>\n<path fill=\"none\" stroke=\"#707070\" d=\"M173.54,-602.87C285.44,-579.8 898.6,-453.4 1014.94,-429.42\"/>\n</g>\n<!-- 5&#45;&gt;14 -->\n<g id=\"edge35\" class=\"edge\">\n<title>5&#45;&gt;14</title>\n<path fill=\"none\" stroke=\"#707070\" d=\"M173.46,-602.37C275.92,-578.19 798.18,-454.95 904.21,-429.93\"/>\n</g>\n<!-- 5&#45;&gt;15 -->\n<g id=\"edge45\" class=\"edge\">\n<title>5&#45;&gt;15</title>\n<path fill=\"none\" stroke=\"#707070\" d=\"M173.21,-601.74C265.19,-576.36 698.17,-456.9 793.43,-430.61\"/>\n</g>\n<!-- 5&#45;&gt;16 -->\n<g id=\"edge55\" class=\"edge\">\n<title>5&#45;&gt;16</title>\n<path fill=\"none\" stroke=\"#707070\" d=\"M172.91,-600.87C253.58,-574.08 598.89,-459.4 682.65,-431.59\"/>\n</g>\n<!-- 5&#45;&gt;17 -->\n<g id=\"edge65\" class=\"edge\">\n<title>5&#45;&gt;17</title>\n<path fill=\"none\" stroke=\"#707070\" d=\"M172.48,-599.61C240.77,-571.14 501.17,-462.54 572.08,-432.96\"/>\n</g>\n<!-- 5&#45;&gt;18 -->\n<g id=\"edge75\" class=\"edge\">\n<title>5&#45;&gt;18</title>\n<path fill=\"none\" stroke=\"#707070\" d=\"M171.58,-597.76C225.89,-567.32 406.61,-466.06 462.43,-434.78\"/>\n</g>\n<!-- 5&#45;&gt;19 -->\n<g id=\"edge85\" class=\"edge\">\n<title>5&#45;&gt;19</title>\n<path fill=\"none\" stroke=\"#707070\" d=\"M169.26,-595.17C206.97,-562.97 314.6,-471.08 353.64,-437.75\"/>\n</g>\n<!-- 5&#45;&gt;20 -->\n<g id=\"edge95\" class=\"edge\">\n<title>5&#45;&gt;20</title>\n<path fill=\"none\" stroke=\"#707070\" d=\"M164.44,-591.37C183.21,-557.72 228.32,-476.89 247.79,-442\"/>\n</g>\n<!-- 6 -->\n<g id=\"node6\" class=\"node\">\n<title>6</title>\n<ellipse fill=\"#2ecc71\" stroke=\"#2ecc71\" cx=\"48\" cy=\"-607.49\" rx=\"18\" ry=\"18\"/>\n<text text-anchor=\"middle\" x=\"48\" y=\"-603.79\" font-family=\"Times,serif\" font-size=\"14.00\" fill=\"#2ecc71\">6</text>\n</g>\n<!-- 6&#45;&gt;11 -->\n<g id=\"edge6\" class=\"edge\">\n<title>6&#45;&gt;11</title>\n<path fill=\"none\" stroke=\"#707070\" d=\"M56.19,-591.37C74.4,-557.72 118.17,-476.89 137.06,-442\"/>\n</g>\n<!-- 6&#45;&gt;12 -->\n<g id=\"edge16\" class=\"edge\">\n<title>6&#45;&gt;12</title>\n<path fill=\"none\" stroke=\"#707070\" d=\"M46.78,-589.46C44.33,-555.4 38.85,-479.15 36.33,-443.95\"/>\n</g>\n<!-- 6&#45;&gt;13 -->\n<g id=\"edge26\" class=\"edge\">\n<title>6&#45;&gt;13</title>\n<path fill=\"none\" stroke=\"#707070\" d=\"M65.53,-603.27C185.93,-581.17 889.43,-452.03 1014.87,-429\"/>\n</g>\n<!-- 6&#45;&gt;14 -->\n<g id=\"edge36\" class=\"edge\">\n<title>6&#45;&gt;14</title>\n<path fill=\"none\" stroke=\"#707070\" d=\"M65.48,-602.87C177,-579.8 788.06,-453.4 904.01,-429.42\"/>\n</g>\n<!-- 6&#45;&gt;15 -->\n<g id=\"edge46\" class=\"edge\">\n<title>6&#45;&gt;15</title>\n<path fill=\"none\" stroke=\"#707070\" d=\"M65.39,-602.37C167.34,-578.21 686.54,-455.21 792.93,-430.01\"/>\n</g>\n<!-- 6&#45;&gt;16 -->\n<g id=\"edge56\" class=\"edge\">\n<title>6&#45;&gt;16</title>\n<path fill=\"none\" stroke=\"#707070\" d=\"M65.13,-601.74C156.59,-576.39 586.74,-457.16 682.2,-430.7\"/>\n</g>\n<!-- 6&#45;&gt;17 -->\n<g id=\"edge66\" class=\"edge\">\n<title>6&#45;&gt;17</title>\n<path fill=\"none\" stroke=\"#707070\" d=\"M64.82,-600.87C145.04,-574.08 488.45,-459.4 571.75,-431.59\"/>\n</g>\n<!-- 6&#45;&gt;18 -->\n<g id=\"edge76\" class=\"edge\">\n<title>6&#45;&gt;18</title>\n<path fill=\"none\" stroke=\"#707070\" d=\"M64.37,-599.61C132.18,-571.14 390.78,-462.54 461.2,-432.96\"/>\n</g>\n<!-- 6&#45;&gt;19 -->\n<g id=\"edge86\" class=\"edge\">\n<title>6&#45;&gt;19</title>\n<path fill=\"none\" stroke=\"#707070\" d=\"M63.43,-597.76C117.12,-567.39 295.45,-466.53 351.2,-435\"/>\n</g>\n<!-- 6&#45;&gt;20 -->\n<g id=\"edge96\" class=\"edge\">\n<title>6&#45;&gt;20</title>\n<path fill=\"none\" stroke=\"#707070\" d=\"M61.39,-594.89C98.78,-562.51 204.07,-471.33 242.62,-437.94\"/>\n</g>\n<!-- 7 -->\n<g id=\"node7\" class=\"node\">\n<title>7</title>\n<ellipse fill=\"#2ecc71\" stroke=\"#2ecc71\" cx=\"1022\" cy=\"-607.49\" rx=\"18\" ry=\"18\"/>\n<text text-anchor=\"middle\" x=\"1022\" y=\"-603.79\" font-family=\"Times,serif\" font-size=\"14.00\" fill=\"#2ecc71\">7</text>\n</g>\n<!-- 7&#45;&gt;11 -->\n<g id=\"edge7\" class=\"edge\">\n<title>7&#45;&gt;11</title>\n<path fill=\"none\" stroke=\"#707070\" d=\"M1004.5,-602.87C892.85,-579.8 281.09,-453.4 165.02,-429.42\"/>\n</g>\n<!-- 7&#45;&gt;12 -->\n<g id=\"edge17\" class=\"edge\">\n<title>7&#45;&gt;12</title>\n<path fill=\"none\" stroke=\"#707070\" d=\"M1004.45,-603.27C883.93,-581.17 179.72,-452.03 54.15,-429\"/>\n</g>\n<!-- 7&#45;&gt;13 -->\n<g id=\"edge27\" class=\"edge\">\n<title>7&#45;&gt;13</title>\n<path fill=\"none\" stroke=\"#707070\" d=\"M1023.13,-589.46C1025.38,-555.49 1030.42,-479.55 1032.76,-444.22\"/>\n</g>\n<!-- 7&#45;&gt;14 -->\n<g id=\"edge37\" class=\"edge\">\n<title>7&#45;&gt;14</title>\n<path fill=\"none\" stroke=\"#707070\" d=\"M1013.73,-591.37C995.33,-557.72 951.12,-476.89 932.03,-442\"/>\n</g>\n<!-- 7&#45;&gt;15 -->\n<g id=\"edge47\" class=\"edge\">\n<title>7&#45;&gt;15</title>\n<path fill=\"none\" stroke=\"#707070\" d=\"M1008.86,-595.17C971.6,-563.05 865.41,-471.52 826.51,-438\"/>\n</g>\n<!-- 7&#45;&gt;16 -->\n<g id=\"edge57\" class=\"edge\">\n<title>7&#45;&gt;16</title>\n<path fill=\"none\" stroke=\"#707070\" d=\"M1006.52,-597.76C952.67,-567.39 773.78,-466.53 717.86,-435\"/>\n</g>\n<!-- 7&#45;&gt;17 -->\n<g id=\"edge67\" class=\"edge\">\n<title>7&#45;&gt;17</title>\n<path fill=\"none\" stroke=\"#707070\" d=\"M1005.59,-599.61C937.63,-571.14 678.42,-462.54 607.84,-432.96\"/>\n</g>\n<!-- 7&#45;&gt;18 -->\n<g id=\"edge77\" class=\"edge\">\n<title>7&#45;&gt;18</title>\n<path fill=\"none\" stroke=\"#707070\" d=\"M1005.15,-600.87C924.78,-574.08 580.74,-459.4 497.29,-431.59\"/>\n</g>\n<!-- 7&#45;&gt;19 -->\n<g id=\"edge87\" class=\"edge\">\n<title>7&#45;&gt;19</title>\n<path fill=\"none\" stroke=\"#707070\" d=\"M1004.84,-601.74C913.14,-576.36 481.49,-456.9 386.51,-430.61\"/>\n</g>\n<!-- 7&#45;&gt;20 -->\n<g id=\"edge97\" class=\"edge\">\n<title>7&#45;&gt;20</title>\n<path fill=\"none\" stroke=\"#707070\" d=\"M1004.58,-602.37C902.39,-578.19 381.5,-454.95 275.75,-429.93\"/>\n</g>\n<!-- 8 -->\n<g id=\"node8\" class=\"node\">\n<title>8</title>\n<ellipse fill=\"#2ecc71\" stroke=\"#2ecc71\" cx=\"914\" cy=\"-607.49\" rx=\"18\" ry=\"18\"/>\n<text text-anchor=\"middle\" x=\"914\" y=\"-603.79\" font-family=\"Times,serif\" font-size=\"14.00\" fill=\"#2ecc71\">8</text>\n</g>\n<!-- 8&#45;&gt;11 -->\n<g id=\"edge8\" class=\"edge\">\n<title>8&#45;&gt;11</title>\n<path fill=\"none\" stroke=\"#707070\" d=\"M896.52,-602.37C793.92,-578.19 270.98,-454.95 164.82,-429.93\"/>\n</g>\n<!-- 8&#45;&gt;12 -->\n<g id=\"edge18\" class=\"edge\">\n<title>8&#45;&gt;12</title>\n<path fill=\"none\" stroke=\"#707070\" d=\"M896.44,-602.87C784.41,-579.8 170.55,-453.4 54.08,-429.42\"/>\n</g>\n<!-- 8&#45;&gt;13 -->\n<g id=\"edge28\" class=\"edge\">\n<title>8&#45;&gt;13</title>\n<path fill=\"none\" stroke=\"#707070\" d=\"M923.62,-591.98C945.86,-558.43 1000.72,-475.68 1023.66,-441.09\"/>\n</g>\n<!-- 8&#45;&gt;14 -->\n<g id=\"edge38\" class=\"edge\">\n<title>8&#45;&gt;14</title>\n<path fill=\"none\" stroke=\"#707070\" d=\"M914.85,-589.46C916.54,-555.49 920.31,-479.55 922.07,-444.22\"/>\n</g>\n<!-- 8&#45;&gt;15 -->\n<g id=\"edge48\" class=\"edge\">\n<title>8&#45;&gt;15</title>\n<path fill=\"none\" stroke=\"#707070\" d=\"M905.48,-591.37C886.47,-557.64 840.74,-476.49 821.15,-441.73\"/>\n</g>\n<!-- 8&#45;&gt;16 -->\n<g id=\"edge58\" class=\"edge\">\n<title>8&#45;&gt;16</title>\n<path fill=\"none\" stroke=\"#707070\" d=\"M900.68,-595.17C862.79,-562.97 754.65,-471.08 715.43,-437.75\"/>\n</g>\n<!-- 8&#45;&gt;17 -->\n<g id=\"edge68\" class=\"edge\">\n<title>8&#45;&gt;17</title>\n<path fill=\"none\" stroke=\"#707070\" d=\"M898.37,-597.76C843.89,-567.32 662.61,-466.06 606.62,-434.78\"/>\n</g>\n<!-- 8&#45;&gt;18 -->\n<g id=\"edge78\" class=\"edge\">\n<title>8&#45;&gt;18</title>\n<path fill=\"none\" stroke=\"#707070\" d=\"M897.74,-599.72C829.72,-571.42 568.22,-462.61 497,-432.98\"/>\n</g>\n<!-- 8&#45;&gt;19 -->\n<g id=\"edge88\" class=\"edge\">\n<title>8&#45;&gt;19</title>\n<path fill=\"none\" stroke=\"#707070\" d=\"M897.06,-600.87C816.24,-574.08 470.3,-459.4 386.39,-431.59\"/>\n</g>\n<!-- 8&#45;&gt;20 -->\n<g id=\"edge98\" class=\"edge\">\n<title>8&#45;&gt;20</title>\n<path fill=\"none\" stroke=\"#707070\" d=\"M896.76,-601.74C804.64,-576.36 371.01,-456.9 275.6,-430.61\"/>\n</g>\n<!-- 9 -->\n<g id=\"node9\" class=\"node\">\n<title>9</title>\n<ellipse fill=\"#2ecc71\" stroke=\"#2ecc71\" cx=\"806\" cy=\"-607.49\" rx=\"18\" ry=\"18\"/>\n<text text-anchor=\"middle\" x=\"806\" y=\"-603.79\" font-family=\"Times,serif\" font-size=\"14.00\" fill=\"#2ecc71\">9</text>\n</g>\n<!-- 9&#45;&gt;11 -->\n<g id=\"edge9\" class=\"edge\">\n<title>9&#45;&gt;11</title>\n<path fill=\"none\" stroke=\"#707070\" d=\"M788.69,-601.74C696.14,-576.36 260.53,-456.9 164.68,-430.61\"/>\n</g>\n<!-- 9&#45;&gt;12 -->\n<g id=\"edge19\" class=\"edge\">\n<title>9&#45;&gt;12</title>\n<path fill=\"none\" stroke=\"#707070\" d=\"M788.45,-602.37C685.45,-578.19 160.47,-454.95 53.89,-429.93\"/>\n</g>\n<!-- 9&#45;&gt;13 -->\n<g id=\"edge29\" class=\"edge\">\n<title>9&#45;&gt;13</title>\n<path fill=\"none\" stroke=\"#707070\" d=\"M819.92,-595.44C860.33,-563.36 977.45,-470.39 1019.09,-437.33\"/>\n</g>\n<!-- 9&#45;&gt;14 -->\n<g id=\"edge39\" class=\"edge\">\n<title>9&#45;&gt;14</title>\n<path fill=\"none\" stroke=\"#707070\" d=\"M815.38,-591.98C837.01,-558.51 890.29,-476.1 912.75,-441.35\"/>\n</g>\n<!-- 9&#45;&gt;15 -->\n<g id=\"edge49\" class=\"edge\">\n<title>9&#45;&gt;15</title>\n<path fill=\"none\" stroke=\"#707070\" d=\"M806.56,-589.46C807.69,-555.49 810.21,-479.55 811.38,-444.22\"/>\n</g>\n<!-- 9&#45;&gt;16 -->\n<g id=\"edge59\" class=\"edge\">\n<title>9&#45;&gt;16</title>\n<path fill=\"none\" stroke=\"#707070\" d=\"M797.23,-591.37C777.66,-557.64 730.58,-476.49 710.42,-441.73\"/>\n</g>\n<!-- 9&#45;&gt;17 -->\n<g id=\"edge69\" class=\"edge\">\n<title>9&#45;&gt;17</title>\n<path fill=\"none\" stroke=\"#707070\" d=\"M792.49,-595.17C754.07,-562.97 644.41,-471.08 604.63,-437.75\"/>\n</g>\n<!-- 9&#45;&gt;18 -->\n<g id=\"edge79\" class=\"edge\">\n<title>9&#45;&gt;18</title>\n<path fill=\"none\" stroke=\"#707070\" d=\"M790.67,-598C736.25,-567.88 552.59,-466.23 495.85,-434.82\"/>\n</g>\n<!-- 9&#45;&gt;19 -->\n<g id=\"edge89\" class=\"edge\">\n<title>9&#45;&gt;19</title>\n<path fill=\"none\" stroke=\"#707070\" d=\"M789.63,-599.72C721.14,-571.42 457.83,-462.61 386.12,-432.98\"/>\n</g>\n<!-- 9&#45;&gt;20 -->\n<g id=\"edge99\" class=\"edge\">\n<title>9&#45;&gt;20</title>\n<path fill=\"none\" stroke=\"#707070\" d=\"M788.97,-600.87C707.61,-574.05 359.09,-459.15 275.21,-431.49\"/>\n</g>\n<!-- 10 -->\n<g id=\"node10\" class=\"node\">\n<title>10</title>\n<ellipse fill=\"#2ecc71\" stroke=\"#2ecc71\" cx=\"697\" cy=\"-607.49\" rx=\"19.5\" ry=\"19.5\"/>\n<text text-anchor=\"middle\" x=\"697\" y=\"-603.79\" font-family=\"Times,serif\" font-size=\"14.00\" fill=\"#2ecc71\">10</text>\n</g>\n<!-- 10&#45;&gt;11 -->\n<g id=\"edge10\" class=\"edge\">\n<title>10&#45;&gt;11</title>\n<path fill=\"none\" stroke=\"#707070\" d=\"M678.67,-600.47C594.82,-572.92 248.39,-459.12 164.4,-431.54\"/>\n</g>\n<!-- 10&#45;&gt;12 -->\n<g id=\"edge20\" class=\"edge\">\n<title>10&#45;&gt;12</title>\n<path fill=\"none\" stroke=\"#707070\" d=\"M678.25,-601.36C582.52,-575.19 148.94,-456.64 53.58,-430.57\"/>\n</g>\n<!-- 10&#45;&gt;13 -->\n<g id=\"edge30\" class=\"edge\">\n<title>10&#45;&gt;13</title>\n<path fill=\"none\" stroke=\"#707070\" d=\"M714.18,-597.26C771.98,-566.21 959.1,-465.72 1016.86,-434.7\"/>\n</g>\n<!-- 10&#45;&gt;14 -->\n<g id=\"edge40\" class=\"edge\">\n<title>10&#45;&gt;14</title>\n<path fill=\"none\" stroke=\"#707070\" d=\"M711.83,-594.61C752.78,-561.82 867.1,-470.26 908.12,-437.41\"/>\n</g>\n<!-- 10&#45;&gt;15 -->\n<g id=\"edge50\" class=\"edge\">\n<title>10&#45;&gt;15</title>\n<path fill=\"none\" stroke=\"#707070\" d=\"M707,-590.74C728.75,-556.51 780.13,-475.64 801.94,-441.33\"/>\n</g>\n<!-- 10&#45;&gt;16 -->\n<g id=\"edge60\" class=\"edge\">\n<title>10&#45;&gt;16</title>\n<path fill=\"none\" stroke=\"#707070\" d=\"M697.41,-587.8C698.18,-553.03 699.82,-478.77 700.59,-444.08\"/>\n</g>\n<!-- 10&#45;&gt;17 -->\n<g id=\"edge70\" class=\"edge\">\n<title>10&#45;&gt;17</title>\n<path fill=\"none\" stroke=\"#707070\" d=\"M687.5,-590.43C667.25,-556.16 620,-476.24 599.63,-441.78\"/>\n</g>\n<!-- 10&#45;&gt;18 -->\n<g id=\"edge80\" class=\"edge\">\n<title>10&#45;&gt;18</title>\n<path fill=\"none\" stroke=\"#707070\" d=\"M682.36,-594.33C642.64,-561.36 533.22,-470.51 493.58,-437.6\"/>\n</g>\n<!-- 10&#45;&gt;19 -->\n<g id=\"edge90\" class=\"edge\">\n<title>10&#45;&gt;19</title>\n<path fill=\"none\" stroke=\"#707070\" d=\"M680.23,-597.26C623.8,-566.21 441.12,-465.72 384.73,-434.7\"/>\n</g>\n<!-- 10&#45;&gt;20 -->\n<g id=\"edge100\" class=\"edge\">\n<title>10&#45;&gt;20</title>\n<path fill=\"none\" stroke=\"#707070\" d=\"M679.21,-599.17C608.3,-570 346.31,-462.23 275.01,-432.9\"/>\n</g>\n<!-- 21 -->\n<g id=\"node21\" class=\"node\">\n<title>21</title>\n<ellipse fill=\"#3498db\" stroke=\"#3498db\" cx=\"146\" cy=\"-241.49\" rx=\"19.5\" ry=\"19.5\"/>\n<text text-anchor=\"middle\" x=\"146\" y=\"-237.79\" font-family=\"Times,serif\" font-size=\"14.00\" fill=\"#3498db\">21</text>\n</g>\n<!-- 11&#45;&gt;21 -->\n<g id=\"edge101\" class=\"edge\">\n<title>11&#45;&gt;21</title>\n<path fill=\"none\" stroke=\"#707070\" d=\"M146,-404.8C146,-370.03 146,-295.78 146,-261.08\"/>\n</g>\n<!-- 22 -->\n<g id=\"node22\" class=\"node\">\n<title>22</title>\n<ellipse fill=\"#3498db\" stroke=\"#3498db\" cx=\"35\" cy=\"-241.49\" rx=\"19.5\" ry=\"19.5\"/>\n<text text-anchor=\"middle\" x=\"35\" y=\"-237.79\" font-family=\"Times,serif\" font-size=\"14.00\" fill=\"#3498db\">22</text>\n</g>\n<!-- 11&#45;&gt;22 -->\n<g id=\"edge111\" class=\"edge\">\n<title>11&#45;&gt;22</title>\n<path fill=\"none\" stroke=\"#707070\" d=\"M136.15,-407.43C115.09,-373.08 65.87,-292.84 44.83,-258.52\"/>\n</g>\n<!-- 23 -->\n<g id=\"node23\" class=\"node\">\n<title>23</title>\n<ellipse fill=\"#3498db\" stroke=\"#3498db\" cx=\"1034\" cy=\"-241.49\" rx=\"19.5\" ry=\"19.5\"/>\n<text text-anchor=\"middle\" x=\"1034\" y=\"-237.79\" font-family=\"Times,serif\" font-size=\"14.00\" fill=\"#3498db\">23</text>\n</g>\n<!-- 11&#45;&gt;23 -->\n<g id=\"edge121\" class=\"edge\">\n<title>11&#45;&gt;23</title>\n<path fill=\"none\" stroke=\"#707070\" d=\"M164.96,-419.63C281.34,-395.91 897.89,-270.24 1014.84,-246.4\"/>\n</g>\n<!-- 24 -->\n<g id=\"node24\" class=\"node\">\n<title>24</title>\n<ellipse fill=\"#3498db\" stroke=\"#3498db\" cx=\"923\" cy=\"-241.49\" rx=\"19.5\" ry=\"19.5\"/>\n<text text-anchor=\"middle\" x=\"923\" y=\"-237.79\" font-family=\"Times,serif\" font-size=\"14.00\" fill=\"#3498db\">24</text>\n</g>\n<!-- 11&#45;&gt;24 -->\n<g id=\"edge131\" class=\"edge\">\n<title>11&#45;&gt;24</title>\n<path fill=\"none\" stroke=\"#707070\" d=\"M164.82,-419.11C271.32,-394.3 797.33,-271.77 904.08,-246.9\"/>\n</g>\n<!-- 25 -->\n<g id=\"node25\" class=\"node\">\n<title>25</title>\n<ellipse fill=\"#3498db\" stroke=\"#3498db\" cx=\"812\" cy=\"-241.49\" rx=\"19.5\" ry=\"19.5\"/>\n<text text-anchor=\"middle\" x=\"812\" y=\"-237.79\" font-family=\"Times,serif\" font-size=\"14.00\" fill=\"#3498db\">25</text>\n</g>\n<!-- 11&#45;&gt;25 -->\n<g id=\"edge141\" class=\"edge\">\n<title>11&#45;&gt;25</title>\n<path fill=\"none\" stroke=\"#707070\" d=\"M164.86,-418.37C261.18,-392.19 697.38,-273.65 793.31,-247.58\"/>\n</g>\n<!-- 26 -->\n<g id=\"node26\" class=\"node\">\n<title>26</title>\n<ellipse fill=\"#3498db\" stroke=\"#3498db\" cx=\"701\" cy=\"-241.49\" rx=\"19.5\" ry=\"19.5\"/>\n<text text-anchor=\"middle\" x=\"701\" y=\"-237.79\" font-family=\"Times,serif\" font-size=\"14.00\" fill=\"#3498db\">26</text>\n</g>\n<!-- 11&#45;&gt;26 -->\n<g id=\"edge151\" class=\"edge\">\n<title>11&#45;&gt;26</title>\n<path fill=\"none\" stroke=\"#707070\" d=\"M164.47,-417.47C249.01,-389.9 598.65,-275.87 682.75,-248.45\"/>\n</g>\n<!-- 27 -->\n<g id=\"node27\" class=\"node\">\n<title>27</title>\n<ellipse fill=\"#3498db\" stroke=\"#3498db\" cx=\"590\" cy=\"-241.49\" rx=\"19.5\" ry=\"19.5\"/>\n<text text-anchor=\"middle\" x=\"590\" y=\"-237.79\" font-family=\"Times,serif\" font-size=\"14.00\" fill=\"#3498db\">27</text>\n</g>\n<!-- 11&#45;&gt;27 -->\n<g id=\"edge161\" class=\"edge\">\n<title>11&#45;&gt;27</title>\n<path fill=\"none\" stroke=\"#707070\" d=\"M163.96,-416.17C235.66,-386.94 501.07,-278.75 572.31,-249.71\"/>\n</g>\n<!-- 28 -->\n<g id=\"node28\" class=\"node\">\n<title>28</title>\n<ellipse fill=\"#3498db\" stroke=\"#3498db\" cx=\"479\" cy=\"-241.49\" rx=\"19.5\" ry=\"19.5\"/>\n<text text-anchor=\"middle\" x=\"479\" y=\"-237.79\" font-family=\"Times,serif\" font-size=\"14.00\" fill=\"#3498db\">28</text>\n</g>\n<!-- 11&#45;&gt;28 -->\n<g id=\"edge171\" class=\"edge\">\n<title>11&#45;&gt;28</title>\n<path fill=\"none\" stroke=\"#707070\" d=\"M162.97,-414.27C220.09,-383.22 404.99,-282.72 462.06,-251.7\"/>\n</g>\n<!-- 29 -->\n<g id=\"node29\" class=\"node\">\n<title>29</title>\n<ellipse fill=\"#3498db\" stroke=\"#3498db\" cx=\"368\" cy=\"-241.49\" rx=\"19.5\" ry=\"19.5\"/>\n<text text-anchor=\"middle\" x=\"368\" y=\"-237.79\" font-family=\"Times,serif\" font-size=\"14.00\" fill=\"#3498db\">29</text>\n</g>\n<!-- 11&#45;&gt;29 -->\n<g id=\"edge181\" class=\"edge\">\n<title>11&#45;&gt;29</title>\n<path fill=\"none\" stroke=\"#707070\" d=\"M160.91,-411.33C201.35,-378.36 312.79,-287.51 353.15,-254.6\"/>\n</g>\n<!-- 30 -->\n<g id=\"node30\" class=\"node\">\n<title>30</title>\n<ellipse fill=\"#3498db\" stroke=\"#3498db\" cx=\"257\" cy=\"-241.49\" rx=\"19.5\" ry=\"19.5\"/>\n<text text-anchor=\"middle\" x=\"257\" y=\"-237.79\" font-family=\"Times,serif\" font-size=\"14.00\" fill=\"#3498db\">30</text>\n</g>\n<!-- 11&#45;&gt;30 -->\n<g id=\"edge191\" class=\"edge\">\n<title>11&#45;&gt;30</title>\n<path fill=\"none\" stroke=\"#707070\" d=\"M155.85,-407.43C176.91,-373.08 226.13,-292.84 247.17,-258.52\"/>\n</g>\n<!-- 12&#45;&gt;21 -->\n<g id=\"edge102\" class=\"edge\">\n<title>12&#45;&gt;21</title>\n<path fill=\"none\" stroke=\"#707070\" d=\"M44.85,-407.43C65.91,-373.08 115.13,-292.84 136.17,-258.52\"/>\n</g>\n<!-- 12&#45;&gt;22 -->\n<g id=\"edge112\" class=\"edge\">\n<title>12&#45;&gt;22</title>\n<path fill=\"none\" stroke=\"#707070\" d=\"M35,-404.8C35,-370.03 35,-295.78 35,-261.08\"/>\n</g>\n<!-- 12&#45;&gt;23 -->\n<g id=\"edge122\" class=\"edge\">\n<title>12&#45;&gt;23</title>\n<path fill=\"none\" stroke=\"#707070\" d=\"M54.06,-420.04C179.77,-397.26 888.42,-268.87 1014.74,-245.99\"/>\n</g>\n<!-- 12&#45;&gt;24 -->\n<g id=\"edge132\" class=\"edge\">\n<title>12&#45;&gt;24</title>\n<path fill=\"none\" stroke=\"#707070\" d=\"M53.96,-419.63C170.34,-395.91 786.89,-270.24 903.84,-246.4\"/>\n</g>\n<!-- 12&#45;&gt;25 -->\n<g id=\"edge142\" class=\"edge\">\n<title>12&#45;&gt;25</title>\n<path fill=\"none\" stroke=\"#707070\" d=\"M53.82,-419.11C160.32,-394.3 686.33,-271.77 793.08,-246.9\"/>\n</g>\n<!-- 12&#45;&gt;26 -->\n<g id=\"edge152\" class=\"edge\">\n<title>12&#45;&gt;26</title>\n<path fill=\"none\" stroke=\"#707070\" d=\"M53.86,-418.37C150.18,-392.19 586.38,-273.65 682.31,-247.58\"/>\n</g>\n<!-- 12&#45;&gt;27 -->\n<g id=\"edge162\" class=\"edge\">\n<title>12&#45;&gt;27</title>\n<path fill=\"none\" stroke=\"#707070\" d=\"M53.47,-417.47C138.01,-389.9 487.65,-275.87 571.75,-248.45\"/>\n</g>\n<!-- 12&#45;&gt;28 -->\n<g id=\"edge172\" class=\"edge\">\n<title>12&#45;&gt;28</title>\n<path fill=\"none\" stroke=\"#707070\" d=\"M52.96,-416.17C124.66,-386.94 390.07,-278.75 461.31,-249.71\"/>\n</g>\n<!-- 12&#45;&gt;29 -->\n<g id=\"edge182\" class=\"edge\">\n<title>12&#45;&gt;29</title>\n<path fill=\"none\" stroke=\"#707070\" d=\"M51.97,-414.27C109.09,-383.22 293.99,-282.72 351.06,-251.7\"/>\n</g>\n<!-- 12&#45;&gt;30 -->\n<g id=\"edge192\" class=\"edge\">\n<title>12&#45;&gt;30</title>\n<path fill=\"none\" stroke=\"#707070\" d=\"M49.91,-411.33C90.35,-378.36 201.79,-287.51 242.15,-254.6\"/>\n</g>\n<!-- 13&#45;&gt;21 -->\n<g id=\"edge103\" class=\"edge\">\n<title>13&#45;&gt;21</title>\n<path fill=\"none\" stroke=\"#707070\" d=\"M1015.04,-419.63C898.66,-395.91 282.11,-270.24 165.16,-246.4\"/>\n</g>\n<!-- 13&#45;&gt;22 -->\n<g id=\"edge113\" class=\"edge\">\n<title>13&#45;&gt;22</title>\n<path fill=\"none\" stroke=\"#707070\" d=\"M1014.94,-420.04C889.23,-397.26 180.58,-268.87 54.26,-245.99\"/>\n</g>\n<!-- 13&#45;&gt;23 -->\n<g id=\"edge123\" class=\"edge\">\n<title>13&#45;&gt;23</title>\n<path fill=\"none\" stroke=\"#707070\" d=\"M1034,-404.8C1034,-370.03 1034,-295.78 1034,-261.08\"/>\n</g>\n<!-- 13&#45;&gt;24 -->\n<g id=\"edge133\" class=\"edge\">\n<title>13&#45;&gt;24</title>\n<path fill=\"none\" stroke=\"#707070\" d=\"M1024.15,-407.43C1003.09,-373.08 953.87,-292.84 932.83,-258.52\"/>\n</g>\n<!-- 13&#45;&gt;25 -->\n<g id=\"edge143\" class=\"edge\">\n<title>13&#45;&gt;25</title>\n<path fill=\"none\" stroke=\"#707070\" d=\"M1019.09,-411.33C978.65,-378.36 867.21,-287.51 826.85,-254.6\"/>\n</g>\n<!-- 13&#45;&gt;26 -->\n<g id=\"edge153\" class=\"edge\">\n<title>13&#45;&gt;26</title>\n<path fill=\"none\" stroke=\"#707070\" d=\"M1017.03,-414.27C959.91,-383.22 775.01,-282.72 717.94,-251.7\"/>\n</g>\n<!-- 13&#45;&gt;27 -->\n<g id=\"edge163\" class=\"edge\">\n<title>13&#45;&gt;27</title>\n<path fill=\"none\" stroke=\"#707070\" d=\"M1016.04,-416.17C944.34,-386.94 678.93,-278.75 607.69,-249.71\"/>\n</g>\n<!-- 13&#45;&gt;28 -->\n<g id=\"edge173\" class=\"edge\">\n<title>13&#45;&gt;28</title>\n<path fill=\"none\" stroke=\"#707070\" d=\"M1015.53,-417.47C930.99,-389.9 581.35,-275.87 497.25,-248.45\"/>\n</g>\n<!-- 13&#45;&gt;29 -->\n<g id=\"edge183\" class=\"edge\">\n<title>13&#45;&gt;29</title>\n<path fill=\"none\" stroke=\"#707070\" d=\"M1015.14,-418.37C918.82,-392.19 482.62,-273.65 386.69,-247.58\"/>\n</g>\n<!-- 13&#45;&gt;30 -->\n<g id=\"edge193\" class=\"edge\">\n<title>13&#45;&gt;30</title>\n<path fill=\"none\" stroke=\"#707070\" d=\"M1015.18,-419.11C908.68,-394.3 382.67,-271.77 275.92,-246.9\"/>\n</g>\n<!-- 14&#45;&gt;21 -->\n<g id=\"edge104\" class=\"edge\">\n<title>14&#45;&gt;21</title>\n<path fill=\"none\" stroke=\"#707070\" d=\"M904.18,-419.11C797.68,-394.3 271.67,-271.77 164.92,-246.9\"/>\n</g>\n<!-- 14&#45;&gt;22 -->\n<g id=\"edge114\" class=\"edge\">\n<title>14&#45;&gt;22</title>\n<path fill=\"none\" stroke=\"#707070\" d=\"M904.04,-419.63C787.66,-395.91 171.11,-270.24 54.16,-246.4\"/>\n</g>\n<!-- 14&#45;&gt;23 -->\n<g id=\"edge124\" class=\"edge\">\n<title>14&#45;&gt;23</title>\n<path fill=\"none\" stroke=\"#707070\" d=\"M932.85,-407.43C953.91,-373.08 1003.13,-292.84 1024.17,-258.52\"/>\n</g>\n<!-- 14&#45;&gt;24 -->\n<g id=\"edge134\" class=\"edge\">\n<title>14&#45;&gt;24</title>\n<path fill=\"none\" stroke=\"#707070\" d=\"M923,-404.8C923,-370.03 923,-295.78 923,-261.08\"/>\n</g>\n<!-- 14&#45;&gt;25 -->\n<g id=\"edge144\" class=\"edge\">\n<title>14&#45;&gt;25</title>\n<path fill=\"none\" stroke=\"#707070\" d=\"M913.15,-407.43C892.09,-373.08 842.87,-292.84 821.83,-258.52\"/>\n</g>\n<!-- 14&#45;&gt;26 -->\n<g id=\"edge154\" class=\"edge\">\n<title>14&#45;&gt;26</title>\n<path fill=\"none\" stroke=\"#707070\" d=\"M908.09,-411.33C867.65,-378.36 756.21,-287.51 715.85,-254.6\"/>\n</g>\n<!-- 14&#45;&gt;27 -->\n<g id=\"edge164\" class=\"edge\">\n<title>14&#45;&gt;27</title>\n<path fill=\"none\" stroke=\"#707070\" d=\"M906.03,-414.27C848.91,-383.22 664.01,-282.72 606.94,-251.7\"/>\n</g>\n<!-- 14&#45;&gt;28 -->\n<g id=\"edge174\" class=\"edge\">\n<title>14&#45;&gt;28</title>\n<path fill=\"none\" stroke=\"#707070\" d=\"M905.04,-416.17C833.34,-386.94 567.93,-278.75 496.69,-249.71\"/>\n</g>\n<!-- 14&#45;&gt;29 -->\n<g id=\"edge184\" class=\"edge\">\n<title>14&#45;&gt;29</title>\n<path fill=\"none\" stroke=\"#707070\" d=\"M904.53,-417.47C819.99,-389.9 470.35,-275.87 386.25,-248.45\"/>\n</g>\n<!-- 14&#45;&gt;30 -->\n<g id=\"edge194\" class=\"edge\">\n<title>14&#45;&gt;30</title>\n<path fill=\"none\" stroke=\"#707070\" d=\"M904.14,-418.37C807.82,-392.19 371.62,-273.65 275.69,-247.58\"/>\n</g>\n<!-- 15&#45;&gt;21 -->\n<g id=\"edge105\" class=\"edge\">\n<title>15&#45;&gt;21</title>\n<path fill=\"none\" stroke=\"#707070\" d=\"M793.14,-418.37C696.82,-392.19 260.62,-273.65 164.69,-247.58\"/>\n</g>\n<!-- 15&#45;&gt;22 -->\n<g id=\"edge115\" class=\"edge\">\n<title>15&#45;&gt;22</title>\n<path fill=\"none\" stroke=\"#707070\" d=\"M793.18,-419.11C686.68,-394.3 160.67,-271.77 53.92,-246.9\"/>\n</g>\n<!-- 15&#45;&gt;23 -->\n<g id=\"edge125\" class=\"edge\">\n<title>15&#45;&gt;23</title>\n<path fill=\"none\" stroke=\"#707070\" d=\"M826.91,-411.33C867.35,-378.36 978.79,-287.51 1019.15,-254.6\"/>\n</g>\n<!-- 15&#45;&gt;24 -->\n<g id=\"edge135\" class=\"edge\">\n<title>15&#45;&gt;24</title>\n<path fill=\"none\" stroke=\"#707070\" d=\"M821.85,-407.43C842.91,-373.08 892.13,-292.84 913.17,-258.52\"/>\n</g>\n<!-- 15&#45;&gt;25 -->\n<g id=\"edge145\" class=\"edge\">\n<title>15&#45;&gt;25</title>\n<path fill=\"none\" stroke=\"#707070\" d=\"M812,-404.8C812,-370.03 812,-295.78 812,-261.08\"/>\n</g>\n<!-- 15&#45;&gt;26 -->\n<g id=\"edge155\" class=\"edge\">\n<title>15&#45;&gt;26</title>\n<path fill=\"none\" stroke=\"#707070\" d=\"M802.15,-407.43C781.09,-373.08 731.87,-292.84 710.83,-258.52\"/>\n</g>\n<!-- 15&#45;&gt;27 -->\n<g id=\"edge165\" class=\"edge\">\n<title>15&#45;&gt;27</title>\n<path fill=\"none\" stroke=\"#707070\" d=\"M797.09,-411.33C756.65,-378.36 645.21,-287.51 604.85,-254.6\"/>\n</g>\n<!-- 15&#45;&gt;28 -->\n<g id=\"edge175\" class=\"edge\">\n<title>15&#45;&gt;28</title>\n<path fill=\"none\" stroke=\"#707070\" d=\"M795.03,-414.27C737.91,-383.22 553.01,-282.72 495.94,-251.7\"/>\n</g>\n<!-- 15&#45;&gt;29 -->\n<g id=\"edge185\" class=\"edge\">\n<title>15&#45;&gt;29</title>\n<path fill=\"none\" stroke=\"#707070\" d=\"M794.04,-416.17C722.34,-386.94 456.93,-278.75 385.69,-249.71\"/>\n</g>\n<!-- 15&#45;&gt;30 -->\n<g id=\"edge195\" class=\"edge\">\n<title>15&#45;&gt;30</title>\n<path fill=\"none\" stroke=\"#707070\" d=\"M793.53,-417.47C708.99,-389.9 359.35,-275.87 275.25,-248.45\"/>\n</g>\n<!-- 16&#45;&gt;21 -->\n<g id=\"edge106\" class=\"edge\">\n<title>16&#45;&gt;21</title>\n<path fill=\"none\" stroke=\"#707070\" d=\"M682.53,-417.47C597.99,-389.9 248.35,-275.87 164.25,-248.45\"/>\n</g>\n<!-- 16&#45;&gt;22 -->\n<g id=\"edge116\" class=\"edge\">\n<title>16&#45;&gt;22</title>\n<path fill=\"none\" stroke=\"#707070\" d=\"M682.14,-418.37C585.82,-392.19 149.62,-273.65 53.69,-247.58\"/>\n</g>\n<!-- 16&#45;&gt;23 -->\n<g id=\"edge126\" class=\"edge\">\n<title>16&#45;&gt;23</title>\n<path fill=\"none\" stroke=\"#707070\" d=\"M717.97,-414.27C775.09,-383.22 959.99,-282.72 1017.06,-251.7\"/>\n</g>\n<!-- 16&#45;&gt;24 -->\n<g id=\"edge136\" class=\"edge\">\n<title>16&#45;&gt;24</title>\n<path fill=\"none\" stroke=\"#707070\" d=\"M715.91,-411.33C756.35,-378.36 867.79,-287.51 908.15,-254.6\"/>\n</g>\n<!-- 16&#45;&gt;25 -->\n<g id=\"edge146\" class=\"edge\">\n<title>16&#45;&gt;25</title>\n<path fill=\"none\" stroke=\"#707070\" d=\"M710.85,-407.43C731.91,-373.08 781.13,-292.84 802.17,-258.52\"/>\n</g>\n<!-- 16&#45;&gt;26 -->\n<g id=\"edge156\" class=\"edge\">\n<title>16&#45;&gt;26</title>\n<path fill=\"none\" stroke=\"#707070\" d=\"M701,-404.8C701,-370.03 701,-295.78 701,-261.08\"/>\n</g>\n<!-- 16&#45;&gt;27 -->\n<g id=\"edge166\" class=\"edge\">\n<title>16&#45;&gt;27</title>\n<path fill=\"none\" stroke=\"#707070\" d=\"M691.15,-407.43C670.09,-373.08 620.87,-292.84 599.83,-258.52\"/>\n</g>\n<!-- 16&#45;&gt;28 -->\n<g id=\"edge176\" class=\"edge\">\n<title>16&#45;&gt;28</title>\n<path fill=\"none\" stroke=\"#707070\" d=\"M686.09,-411.33C645.65,-378.36 534.21,-287.51 493.85,-254.6\"/>\n</g>\n<!-- 16&#45;&gt;29 -->\n<g id=\"edge186\" class=\"edge\">\n<title>16&#45;&gt;29</title>\n<path fill=\"none\" stroke=\"#707070\" d=\"M684.03,-414.27C626.91,-383.22 442.01,-282.72 384.94,-251.7\"/>\n</g>\n<!-- 16&#45;&gt;30 -->\n<g id=\"edge196\" class=\"edge\">\n<title>16&#45;&gt;30</title>\n<path fill=\"none\" stroke=\"#707070\" d=\"M683.04,-416.17C611.34,-386.94 345.93,-278.75 274.69,-249.71\"/>\n</g>\n<!-- 17&#45;&gt;21 -->\n<g id=\"edge107\" class=\"edge\">\n<title>17&#45;&gt;21</title>\n<path fill=\"none\" stroke=\"#707070\" d=\"M572.04,-416.17C500.34,-386.94 234.93,-278.75 163.69,-249.71\"/>\n</g>\n<!-- 17&#45;&gt;22 -->\n<g id=\"edge117\" class=\"edge\">\n<title>17&#45;&gt;22</title>\n<path fill=\"none\" stroke=\"#707070\" d=\"M571.53,-417.47C486.99,-389.9 137.35,-275.87 53.25,-248.45\"/>\n</g>\n<!-- 17&#45;&gt;23 -->\n<g id=\"edge127\" class=\"edge\">\n<title>17&#45;&gt;23</title>\n<path fill=\"none\" stroke=\"#707070\" d=\"M607.96,-416.17C679.66,-386.94 945.07,-278.75 1016.31,-249.71\"/>\n</g>\n<!-- 17&#45;&gt;24 -->\n<g id=\"edge137\" class=\"edge\">\n<title>17&#45;&gt;24</title>\n<path fill=\"none\" stroke=\"#707070\" d=\"M606.97,-414.27C664.09,-383.22 848.99,-282.72 906.06,-251.7\"/>\n</g>\n<!-- 17&#45;&gt;25 -->\n<g id=\"edge147\" class=\"edge\">\n<title>17&#45;&gt;25</title>\n<path fill=\"none\" stroke=\"#707070\" d=\"M604.91,-411.33C645.35,-378.36 756.79,-287.51 797.15,-254.6\"/>\n</g>\n<!-- 17&#45;&gt;26 -->\n<g id=\"edge157\" class=\"edge\">\n<title>17&#45;&gt;26</title>\n<path fill=\"none\" stroke=\"#707070\" d=\"M599.85,-407.43C620.91,-373.08 670.13,-292.84 691.17,-258.52\"/>\n</g>\n<!-- 17&#45;&gt;27 -->\n<g id=\"edge167\" class=\"edge\">\n<title>17&#45;&gt;27</title>\n<path fill=\"none\" stroke=\"#707070\" d=\"M590,-404.8C590,-370.03 590,-295.78 590,-261.08\"/>\n</g>\n<!-- 17&#45;&gt;28 -->\n<g id=\"edge177\" class=\"edge\">\n<title>17&#45;&gt;28</title>\n<path fill=\"none\" stroke=\"#707070\" d=\"M580.15,-407.43C559.09,-373.08 509.87,-292.84 488.83,-258.52\"/>\n</g>\n<!-- 17&#45;&gt;29 -->\n<g id=\"edge187\" class=\"edge\">\n<title>17&#45;&gt;29</title>\n<path fill=\"none\" stroke=\"#707070\" d=\"M575.09,-411.33C534.65,-378.36 423.21,-287.51 382.85,-254.6\"/>\n</g>\n<!-- 17&#45;&gt;30 -->\n<g id=\"edge197\" class=\"edge\">\n<title>17&#45;&gt;30</title>\n<path fill=\"none\" stroke=\"#707070\" d=\"M573.03,-414.27C515.91,-383.22 331.01,-282.72 273.94,-251.7\"/>\n</g>\n<!-- 18&#45;&gt;21 -->\n<g id=\"edge108\" class=\"edge\">\n<title>18&#45;&gt;21</title>\n<path fill=\"none\" stroke=\"#707070\" d=\"M462.03,-414.27C404.91,-383.22 220.01,-282.72 162.94,-251.7\"/>\n</g>\n<!-- 18&#45;&gt;22 -->\n<g id=\"edge118\" class=\"edge\">\n<title>18&#45;&gt;22</title>\n<path fill=\"none\" stroke=\"#707070\" d=\"M461.04,-416.17C389.34,-386.94 123.93,-278.75 52.69,-249.71\"/>\n</g>\n<!-- 18&#45;&gt;23 -->\n<g id=\"edge128\" class=\"edge\">\n<title>18&#45;&gt;23</title>\n<path fill=\"none\" stroke=\"#707070\" d=\"M497.47,-417.47C582.01,-389.9 931.65,-275.87 1015.75,-248.45\"/>\n</g>\n<!-- 18&#45;&gt;24 -->\n<g id=\"edge138\" class=\"edge\">\n<title>18&#45;&gt;24</title>\n<path fill=\"none\" stroke=\"#707070\" d=\"M496.96,-416.17C568.66,-386.94 834.07,-278.75 905.31,-249.71\"/>\n</g>\n<!-- 18&#45;&gt;25 -->\n<g id=\"edge148\" class=\"edge\">\n<title>18&#45;&gt;25</title>\n<path fill=\"none\" stroke=\"#707070\" d=\"M495.97,-414.27C553.09,-383.22 737.99,-282.72 795.06,-251.7\"/>\n</g>\n<!-- 18&#45;&gt;26 -->\n<g id=\"edge158\" class=\"edge\">\n<title>18&#45;&gt;26</title>\n<path fill=\"none\" stroke=\"#707070\" d=\"M493.91,-411.33C534.35,-378.36 645.79,-287.51 686.15,-254.6\"/>\n</g>\n<!-- 18&#45;&gt;27 -->\n<g id=\"edge168\" class=\"edge\">\n<title>18&#45;&gt;27</title>\n<path fill=\"none\" stroke=\"#707070\" d=\"M488.85,-407.43C509.91,-373.08 559.13,-292.84 580.17,-258.52\"/>\n</g>\n<!-- 18&#45;&gt;28 -->\n<g id=\"edge178\" class=\"edge\">\n<title>18&#45;&gt;28</title>\n<path fill=\"none\" stroke=\"#707070\" d=\"M479,-404.8C479,-370.03 479,-295.78 479,-261.08\"/>\n</g>\n<!-- 18&#45;&gt;29 -->\n<g id=\"edge188\" class=\"edge\">\n<title>18&#45;&gt;29</title>\n<path fill=\"none\" stroke=\"#707070\" d=\"M469.15,-407.43C448.09,-373.08 398.87,-292.84 377.83,-258.52\"/>\n</g>\n<!-- 18&#45;&gt;30 -->\n<g id=\"edge198\" class=\"edge\">\n<title>18&#45;&gt;30</title>\n<path fill=\"none\" stroke=\"#707070\" d=\"M464.09,-411.33C423.65,-378.36 312.21,-287.51 271.85,-254.6\"/>\n</g>\n<!-- 19&#45;&gt;21 -->\n<g id=\"edge109\" class=\"edge\">\n<title>19&#45;&gt;21</title>\n<path fill=\"none\" stroke=\"#707070\" d=\"M353.09,-411.33C312.65,-378.36 201.21,-287.51 160.85,-254.6\"/>\n</g>\n<!-- 19&#45;&gt;22 -->\n<g id=\"edge119\" class=\"edge\">\n<title>19&#45;&gt;22</title>\n<path fill=\"none\" stroke=\"#707070\" d=\"M351.03,-414.27C293.91,-383.22 109.01,-282.72 51.94,-251.7\"/>\n</g>\n<!-- 19&#45;&gt;23 -->\n<g id=\"edge129\" class=\"edge\">\n<title>19&#45;&gt;23</title>\n<path fill=\"none\" stroke=\"#707070\" d=\"M386.86,-418.37C483.18,-392.19 919.38,-273.65 1015.31,-247.58\"/>\n</g>\n<!-- 19&#45;&gt;24 -->\n<g id=\"edge139\" class=\"edge\">\n<title>19&#45;&gt;24</title>\n<path fill=\"none\" stroke=\"#707070\" d=\"M386.47,-417.47C471.01,-389.9 820.65,-275.87 904.75,-248.45\"/>\n</g>\n<!-- 19&#45;&gt;25 -->\n<g id=\"edge149\" class=\"edge\">\n<title>19&#45;&gt;25</title>\n<path fill=\"none\" stroke=\"#707070\" d=\"M385.96,-416.17C457.66,-386.94 723.07,-278.75 794.31,-249.71\"/>\n</g>\n<!-- 19&#45;&gt;26 -->\n<g id=\"edge159\" class=\"edge\">\n<title>19&#45;&gt;26</title>\n<path fill=\"none\" stroke=\"#707070\" d=\"M384.97,-414.27C442.09,-383.22 626.99,-282.72 684.06,-251.7\"/>\n</g>\n<!-- 19&#45;&gt;27 -->\n<g id=\"edge169\" class=\"edge\">\n<title>19&#45;&gt;27</title>\n<path fill=\"none\" stroke=\"#707070\" d=\"M382.91,-411.33C423.35,-378.36 534.79,-287.51 575.15,-254.6\"/>\n</g>\n<!-- 19&#45;&gt;28 -->\n<g id=\"edge179\" class=\"edge\">\n<title>19&#45;&gt;28</title>\n<path fill=\"none\" stroke=\"#707070\" d=\"M377.85,-407.43C398.91,-373.08 448.13,-292.84 469.17,-258.52\"/>\n</g>\n<!-- 19&#45;&gt;29 -->\n<g id=\"edge189\" class=\"edge\">\n<title>19&#45;&gt;29</title>\n<path fill=\"none\" stroke=\"#707070\" d=\"M368,-404.8C368,-370.03 368,-295.78 368,-261.08\"/>\n</g>\n<!-- 19&#45;&gt;30 -->\n<g id=\"edge199\" class=\"edge\">\n<title>19&#45;&gt;30</title>\n<path fill=\"none\" stroke=\"#707070\" d=\"M358.15,-407.43C337.09,-373.08 287.87,-292.84 266.83,-258.52\"/>\n</g>\n<!-- 20&#45;&gt;21 -->\n<g id=\"edge110\" class=\"edge\">\n<title>20&#45;&gt;21</title>\n<path fill=\"none\" stroke=\"#707070\" d=\"M247.15,-407.43C226.09,-373.08 176.87,-292.84 155.83,-258.52\"/>\n</g>\n<!-- 20&#45;&gt;22 -->\n<g id=\"edge120\" class=\"edge\">\n<title>20&#45;&gt;22</title>\n<path fill=\"none\" stroke=\"#707070\" d=\"M242.09,-411.33C201.65,-378.36 90.21,-287.51 49.85,-254.6\"/>\n</g>\n<!-- 20&#45;&gt;23 -->\n<g id=\"edge130\" class=\"edge\">\n<title>20&#45;&gt;23</title>\n<path fill=\"none\" stroke=\"#707070\" d=\"M275.82,-419.11C382.32,-394.3 908.33,-271.77 1015.08,-246.9\"/>\n</g>\n<!-- 20&#45;&gt;24 -->\n<g id=\"edge140\" class=\"edge\">\n<title>20&#45;&gt;24</title>\n<path fill=\"none\" stroke=\"#707070\" d=\"M275.86,-418.37C372.18,-392.19 808.38,-273.65 904.31,-247.58\"/>\n</g>\n<!-- 20&#45;&gt;25 -->\n<g id=\"edge150\" class=\"edge\">\n<title>20&#45;&gt;25</title>\n<path fill=\"none\" stroke=\"#707070\" d=\"M275.47,-417.47C360.01,-389.9 709.65,-275.87 793.75,-248.45\"/>\n</g>\n<!-- 20&#45;&gt;26 -->\n<g id=\"edge160\" class=\"edge\">\n<title>20&#45;&gt;26</title>\n<path fill=\"none\" stroke=\"#707070\" d=\"M274.96,-416.17C346.66,-386.94 612.07,-278.75 683.31,-249.71\"/>\n</g>\n<!-- 20&#45;&gt;27 -->\n<g id=\"edge170\" class=\"edge\">\n<title>20&#45;&gt;27</title>\n<path fill=\"none\" stroke=\"#707070\" d=\"M273.97,-414.27C331.09,-383.22 515.99,-282.72 573.06,-251.7\"/>\n</g>\n<!-- 20&#45;&gt;28 -->\n<g id=\"edge180\" class=\"edge\">\n<title>20&#45;&gt;28</title>\n<path fill=\"none\" stroke=\"#707070\" d=\"M271.91,-411.33C312.35,-378.36 423.79,-287.51 464.15,-254.6\"/>\n</g>\n<!-- 20&#45;&gt;29 -->\n<g id=\"edge190\" class=\"edge\">\n<title>20&#45;&gt;29</title>\n<path fill=\"none\" stroke=\"#707070\" d=\"M266.85,-407.43C287.91,-373.08 337.13,-292.84 358.17,-258.52\"/>\n</g>\n<!-- 20&#45;&gt;30 -->\n<g id=\"edge200\" class=\"edge\">\n<title>20&#45;&gt;30</title>\n<path fill=\"none\" stroke=\"#707070\" d=\"M257,-404.8C257,-370.03 257,-295.78 257,-261.08\"/>\n</g>\n<!-- 31 -->\n<g id=\"node31\" class=\"node\">\n<title>31</title>\n<ellipse fill=\"#e74c3c\" stroke=\"#e74c3c\" cx=\"534\" cy=\"-58.5\" rx=\"19.5\" ry=\"19.5\"/>\n<text text-anchor=\"middle\" x=\"534\" y=\"-54.8\" font-family=\"Times,serif\" font-size=\"14.00\" fill=\"#e74c3c\">31</text>\n</g>\n<!-- 21&#45;&gt;31 -->\n<g id=\"edge201\" class=\"edge\">\n<title>21&#45;&gt;31</title>\n<path fill=\"none\" stroke=\"#707070\" d=\"M163.43,-232.37C227.86,-202.31 452.26,-97.63 516.62,-67.6\"/>\n</g>\n<!-- 22&#45;&gt;31 -->\n<g id=\"edge202\" class=\"edge\">\n<title>22&#45;&gt;31</title>\n<path fill=\"none\" stroke=\"#707070\" d=\"M53.05,-233.95C130.98,-205.68 438.09,-94.29 515.97,-66.04\"/>\n</g>\n<!-- 23&#45;&gt;31 -->\n<g id=\"edge203\" class=\"edge\">\n<title>23&#45;&gt;31</title>\n<path fill=\"none\" stroke=\"#707070\" d=\"M1015.91,-233.95C937.82,-205.68 630.1,-94.29 552.07,-66.04\"/>\n</g>\n<!-- 24&#45;&gt;31 -->\n<g id=\"edge204\" class=\"edge\">\n<title>24&#45;&gt;31</title>\n<path fill=\"none\" stroke=\"#707070\" d=\"M905.53,-232.37C840.92,-202.31 615.95,-97.63 551.42,-67.6\"/>\n</g>\n<!-- 25&#45;&gt;31 -->\n<g id=\"edge205\" class=\"edge\">\n<title>25&#45;&gt;31</title>\n<path fill=\"none\" stroke=\"#707070\" d=\"M795.85,-229.98C746.72,-197.99 599.39,-102.07 550.19,-70.04\"/>\n</g>\n<!-- 26&#45;&gt;31 -->\n<g id=\"edge206\" class=\"edge\">\n<title>26&#45;&gt;31</title>\n<path fill=\"none\" stroke=\"#707070\" d=\"M688.17,-226.59C657.09,-192.9 578,-107.19 546.87,-73.45\"/>\n</g>\n<!-- 27&#45;&gt;31 -->\n<g id=\"edge207\" class=\"edge\">\n<title>27&#45;&gt;31</title>\n<path fill=\"none\" stroke=\"#707070\" d=\"M584.43,-222.48C573.69,-187.79 550.27,-112.08 539.55,-77.44\"/>\n</g>\n<!-- 28&#45;&gt;31 -->\n<g id=\"edge208\" class=\"edge\">\n<title>28&#45;&gt;31</title>\n<path fill=\"none\" stroke=\"#707070\" d=\"M484.47,-222.48C495.02,-187.79 518.02,-112.08 528.55,-77.44\"/>\n</g>\n<!-- 29&#45;&gt;31 -->\n<g id=\"edge209\" class=\"edge\">\n<title>29&#45;&gt;31</title>\n<path fill=\"none\" stroke=\"#707070\" d=\"M380.75,-226.59C411.65,-192.9 490.26,-107.19 521.21,-73.45\"/>\n</g>\n<!-- 30&#45;&gt;31 -->\n<g id=\"edge210\" class=\"edge\">\n<title>30&#45;&gt;31</title>\n<path fill=\"none\" stroke=\"#707070\" d=\"M273.09,-229.98C322.05,-197.99 468.85,-102.07 517.87,-70.04\"/>\n</g>\n</g>\n</svg>\n",
            "text/plain": [
              "<graphviz.sources.Source at 0x7faf8851ffa0>"
            ]
          },
          "metadata": {},
          "execution_count": 24
        }
      ]
    },
    {
      "cell_type": "code",
      "source": [
        "def test_ANN(model, sc, X_test, Y_test):\n",
        "    print(\"shape of test data: \",X_test.shape)\n",
        "   \n",
        "    X_test = sc.transform(X_test)\n",
        "\n",
        "    #show actual predicted values\n",
        "    probs_pred = model.predict(X_test)\n",
        "    y_pred = [1 if y>=0.5 else 0 for y in probs_pred]\n",
        "\n",
        "    print('Test Accuracy: ', accuracy_score(Y_test, y_pred))\n",
        "    print('\\nConfusion Matrix: \\n', confusion_matrix(Y_test, y_pred))\n",
        "    print('\\nSummary: \\n', classification_report(Y_test, y_pred))\n",
        "    \n",
        "    tn, fp, fn, tp = confusion_matrix(Y_test, y_pred).ravel()\n",
        "    print(f'True Neg: {tn}')\n",
        "    print(f'False Pos: {fp}')\n",
        "    print(f'False Neg: {fn}')\n",
        "    print(f'True Pos: {tp}')\n",
        "\n",
        "    from sklearn.metrics import roc_curve\n",
        "    from sklearn.metrics import roc_auc_score\n",
        "\n",
        "  \n",
        "    title = 'ROC AUC SCORE: {}'.format(roc_auc_score(Y_test,probs_pred))\n",
        "    fpr, tpr, thresholds = roc_curve(Y_test, probs_pred)\n",
        "    plt.plot([0,1],[0,1],'k--')\n",
        "    plt.plot(fpr,tpr, label='ANN')\n",
        "    plt.xlabel('fpr')\n",
        "    plt.ylabel('tpr')\n",
        "    plt.title(title)\n",
        "    plt.show()\n",
        "\n",
        "    return probs_pred, y_pred \n"
      ],
      "metadata": {
        "id": "JmQF7gd6e0Xo"
      },
      "execution_count": null,
      "outputs": []
    },
    {
      "cell_type": "code",
      "source": [
        "import torch\n",
        "#probs_pred_ad = torch.zeros((len(X_test_ad), 1),dtype=torch.int64)\n",
        "#y_pred_ad = torch.zeros(len(X_test_ad), dtype=torch.int64)\n",
        "\n",
        "probs_ad, pred_ad = test_ANN(model=ann_ad, sc=sc_ad, X_test=X_test_ad, Y_test=y_test_ad)\n",
        "#print(probs_ad)\n",
        "#print(pred_ad)\n",
        "\n",
        "labels_ad = torch.tensor(y_test_ad.values, dtype=torch.int64)\n",
        "y_probs_ad = torch.tensor(probs_ad)\n",
        "y_pred_ad = torch.tensor(pred_ad)\n",
        "\n",
        "print('PROB: ', y_probs_ad.shape)\n",
        "print('PRED: ', y_pred_ad)\n",
        "print('LABELS: ', labels_ad.shape)\n",
        "\n",
        "#wrongest_10_predictions = torch.topk(y_probs_ad, k=5)\n",
        "\n",
        "#probs_pred_ad[:] = torch.from_numpy(probs_ad).to(probs_pred_ad)\n",
        "#y_pred_ad[:] = torch.FloatTensor(pred_ad)"
      ],
      "metadata": {
        "colab": {
          "base_uri": "https://localhost:8080/",
          "height": 1000
        },
        "id": "Xlz8qNVWgQuK",
        "outputId": "46024544-84cd-45b9-c0df-99d5f021911b"
      },
      "execution_count": null,
      "outputs": [
        {
          "output_type": "stream",
          "name": "stdout",
          "text": [
            "shape of test data:  (132, 29)\n",
            "5/5 [==============================] - 0s 3ms/step\n",
            "Test Accuracy:  0.8484848484848485\n",
            "\n",
            "Confusion Matrix: \n",
            " [[107   2]\n",
            " [ 18   5]]\n",
            "\n",
            "Summary: \n",
            "               precision    recall  f1-score   support\n",
            "\n",
            "           0       0.86      0.98      0.91       109\n",
            "           1       0.71      0.22      0.33        23\n",
            "\n",
            "    accuracy                           0.85       132\n",
            "   macro avg       0.79      0.60      0.62       132\n",
            "weighted avg       0.83      0.85      0.81       132\n",
            "\n",
            "True Neg: 107\n",
            "False Pos: 2\n",
            "False Neg: 18\n",
            "True Pos: 5\n"
          ]
        },
        {
          "output_type": "display_data",
          "data": {
            "text/plain": [
              "<Figure size 640x480 with 1 Axes>"
            ],
            "image/png": "[encoded data removed]"
          },
          "metadata": {}
        },
        {
          "output_type": "stream",
          "name": "stdout",
          "text": [
            "PROB:  torch.Size([132, 1])\n",
            "PRED:  tensor([0, 0, 0, 0, 0, 0, 0, 0, 0, 0, 0, 0, 0, 0, 0, 0, 0, 0, 0, 0, 0, 0, 0, 0,\n",
            "        0, 0, 0, 0, 0, 0, 0, 0, 0, 0, 0, 0, 0, 1, 0, 0, 0, 0, 0, 0, 0, 1, 0, 0,\n",
            "        0, 0, 0, 0, 1, 0, 0, 0, 0, 0, 0, 0, 0, 0, 0, 0, 0, 0, 0, 0, 0, 0, 0, 0,\n",
            "        0, 0, 0, 0, 0, 0, 0, 0, 0, 0, 0, 0, 0, 0, 0, 0, 0, 1, 1, 0, 1, 0, 0, 0,\n",
            "        0, 1, 0, 0, 0, 0, 0, 0, 0, 0, 0, 0, 0, 0, 0, 0, 0, 0, 0, 0, 0, 0, 0, 0,\n",
            "        0, 0, 0, 0, 0, 0, 0, 0, 0, 0, 0, 0])\n",
            "LABELS:  torch.Size([132])\n"
          ]
        }
      ]
    },
    {
      "cell_type": "code",
      "source": [
        "\n",
        "def wrongest_predicitions(y_probs, y_preds, Y_test):\n",
        "  \n",
        "    wrong_pred = (y_preds != Y_test)  # If predicted class is wrong then value=True, else False.\n",
        "    wrong_pred_probs = y_probs * wrong_pred  # When the prediction is wrong, the value will be the probability value, else 0.000 .\n",
        "    wrongest_10_predictions = torch.topk(wrong_pred_probs, k=10)  # Take the 10 most extreme errors from 'wrong_pred_probs'.\n",
        "    wrongest_pred_probs, pred_indexs = wrongest_10_predictions\n",
        "\n",
        "    for wrong_pred in range(10): \n",
        "        print('----------', wrong_pred, '----------------')\n",
        "        \n",
        "        sample_pred_prob = wrongest_pred_probs[wrong_pred][wrong_pred]  # The probability of the misclassified sample.\n",
        "        print('sample_pred_prob: ',1-sample_pred_prob)\n",
        "        \n",
        "        sample_index = pred_indexs[wrong_pred][wrong_pred]  # The index of the misclassified sample.\n",
        "        print('sample_index: ', int(sample_index))\n",
        "\n",
        "        print(X_test_ad.iloc[int(sample_index)])\n",
        "\n",
        "        wrong_label_pred =  y_preds[sample_index]\n",
        "        print('wrong_label_pred: ', int(wrong_label_pred))\n",
        "        \n",
        "        correct_label = Y_test[sample_index] \n",
        "        print('correct_label: ', int(correct_label))\n",
        "\n",
        "  \n"
      ],
      "metadata": {
        "id": "t7L3fYpPkeVx"
      },
      "execution_count": null,
      "outputs": []
    },
    {
      "cell_type": "code",
      "source": [
        "wrongest_predicitions(y_probs_ad, y_pred_ad, labels_ad)\n"
      ],
      "metadata": {
        "id": "vVujsKqw2Bba",
        "colab": {
          "base_uri": "https://localhost:8080/"
        },
        "outputId": "bde49e15-eb36-4362-9111-5e262fc3eec0"
      },
      "execution_count": null,
      "outputs": [
        {
          "output_type": "stream",
          "name": "stdout",
          "text": [
            "---------- 0 ----------------\n",
            "sample_pred_prob:  tensor(0.8974)\n",
            "sample_index:  94\n",
            "Age                              34.00\n",
            "Blood Pressure                   70.00\n",
            "Specific Gravity                  1.02\n",
            "Albumin                           0.00\n",
            "Sugar                             0.00\n",
            "Blood Glucose Random            148.00\n",
            "Sodium                          130.00\n",
            "Potassium                         3.80\n",
            "Hemoglobin                        6.00\n",
            "White Blood Cell Count         8406.00\n",
            "Red Blood Cell Count              4.70\n",
            "Class                             0.00\n",
            "Red Blood_normal                  1.00\n",
            "Pus Cell_normal                   1.00\n",
            "Pus Cell clumps_present           0.00\n",
            "Bacteria_present                  0.00\n",
            "Blood Urea_high                   0.00\n",
            "Blood Urea_low                    0.00\n",
            "Blood Urea_normal                 0.00\n",
            "Serum Creatinine_high             0.00\n",
            "Serum Creatinine_low              0.00\n",
            "Serum Creatinine_normal           0.00\n",
            "Packed Cell Volume_low            0.00\n",
            "Packed Cell Volume_normal         1.00\n",
            "Hypertension_yes                  1.00\n",
            "Diabetes Mellitus_yes             0.00\n",
            "Coronary Artery Disease_yes       0.00\n",
            "Appetite_poor                     0.00\n",
            "Pedal Edema_yes                   0.00\n",
            "Name: 122, dtype: float64\n",
            "wrong_label_pred:  0\n",
            "correct_label:  1\n",
            "---------- 1 ----------------\n",
            "sample_pred_prob:  tensor(0.9727)\n",
            "sample_index:  12\n",
            "Age                              64.000\n",
            "Blood Pressure                   90.000\n",
            "Specific Gravity                  1.015\n",
            "Albumin                           3.000\n",
            "Sugar                             2.000\n",
            "Blood Glucose Random            463.000\n",
            "Sodium                          135.000\n",
            "Potassium                         4.100\n",
            "Hemoglobin                       12.200\n",
            "White Blood Cell Count         9800.000\n",
            "Red Blood Cell Count              4.600\n",
            "Class                             0.000\n",
            "Red Blood_normal                  1.000\n",
            "Pus Cell_normal                   0.000\n",
            "Pus Cell clumps_present           1.000\n",
            "Bacteria_present                  0.000\n",
            "Blood Urea_high                   1.000\n",
            "Blood Urea_low                    0.000\n",
            "Blood Urea_normal                 0.000\n",
            "Serum Creatinine_high             0.000\n",
            "Serum Creatinine_low              0.000\n",
            "Serum Creatinine_normal           0.000\n",
            "Packed Cell Volume_low            0.000\n",
            "Packed Cell Volume_normal         1.000\n",
            "Hypertension_yes                  1.000\n",
            "Diabetes Mellitus_yes             1.000\n",
            "Coronary Artery Disease_yes       0.000\n",
            "Appetite_poor                     0.000\n",
            "Pedal Edema_yes                   0.000\n",
            "Name: 244, dtype: float64\n",
            "wrong_label_pred:  0\n",
            "correct_label:  1\n",
            "---------- 2 ----------------\n",
            "sample_pred_prob:  tensor(0.9373)\n",
            "sample_index:  47\n",
            "Age                              67.00\n",
            "Blood Pressure                   80.00\n",
            "Specific Gravity                  1.02\n",
            "Albumin                           0.00\n",
            "Sugar                             0.00\n",
            "Blood Glucose Random            341.00\n",
            "Sodium                          138.00\n",
            "Potassium                         4.40\n",
            "Hemoglobin                       12.30\n",
            "White Blood Cell Count         6900.00\n",
            "Red Blood Cell Count              4.90\n",
            "Class                             0.00\n",
            "Red Blood_normal                  1.00\n",
            "Pus Cell_normal                   1.00\n",
            "Pus Cell clumps_present           0.00\n",
            "Bacteria_present                  0.00\n",
            "Blood Urea_high                   0.00\n",
            "Blood Urea_low                    0.00\n",
            "Blood Urea_normal                 1.00\n",
            "Serum Creatinine_high             1.00\n",
            "Serum Creatinine_low              0.00\n",
            "Serum Creatinine_normal           0.00\n",
            "Packed Cell Volume_low            0.00\n",
            "Packed Cell Volume_normal         1.00\n",
            "Hypertension_yes                  1.00\n",
            "Diabetes Mellitus_yes             1.00\n",
            "Coronary Artery Disease_yes       0.00\n",
            "Appetite_poor                     0.00\n",
            "Pedal Edema_yes                   0.00\n",
            "Name: 208, dtype: float64\n",
            "wrong_label_pred:  0\n",
            "correct_label:  1\n",
            "---------- 3 ----------------\n",
            "sample_pred_prob:  tensor(0.9717)\n",
            "sample_index:  105\n",
            "Age                              61.000\n",
            "Blood Pressure                   90.000\n",
            "Specific Gravity                  1.015\n",
            "Albumin                           0.000\n",
            "Sugar                             2.000\n",
            "Blood Glucose Random            148.000\n",
            "Sodium                          138.000\n",
            "Potassium                         4.400\n",
            "Hemoglobin                       12.500\n",
            "White Blood Cell Count         9800.000\n",
            "Red Blood Cell Count              4.700\n",
            "Class                             0.000\n",
            "Red Blood_normal                  1.000\n",
            "Pus Cell_normal                   1.000\n",
            "Pus Cell clumps_present           0.000\n",
            "Bacteria_present                  0.000\n",
            "Blood Urea_high                   1.000\n",
            "Blood Urea_low                    0.000\n",
            "Blood Urea_normal                 0.000\n",
            "Serum Creatinine_high             0.000\n",
            "Serum Creatinine_low              0.000\n",
            "Serum Creatinine_normal           1.000\n",
            "Packed Cell Volume_low            0.000\n",
            "Packed Cell Volume_normal         1.000\n",
            "Hypertension_yes                  0.000\n",
            "Diabetes Mellitus_yes             1.000\n",
            "Coronary Artery Disease_yes       0.000\n",
            "Appetite_poor                     1.000\n",
            "Pedal Edema_yes                   0.000\n",
            "Name: 113, dtype: float64\n",
            "wrong_label_pred:  0\n",
            "correct_label:  1\n",
            "---------- 4 ----------------\n",
            "sample_pred_prob:  tensor(0.9985)\n",
            "sample_index:  120\n",
            "Age                              47.00\n",
            "Blood Pressure                  100.00\n",
            "Specific Gravity                  1.01\n",
            "Albumin                           0.00\n",
            "Sugar                             0.00\n",
            "Blood Glucose Random            204.00\n",
            "Sodium                          139.00\n",
            "Potassium                         4.20\n",
            "Hemoglobin                        9.70\n",
            "White Blood Cell Count         9200.00\n",
            "Red Blood Cell Count              4.50\n",
            "Class                             0.00\n",
            "Red Blood_normal                  1.00\n",
            "Pus Cell_normal                   1.00\n",
            "Pus Cell clumps_present           0.00\n",
            "Bacteria_present                  0.00\n",
            "Blood Urea_high                   0.00\n",
            "Blood Urea_low                    0.00\n",
            "Blood Urea_normal                 1.00\n",
            "Serum Creatinine_high             0.00\n",
            "Serum Creatinine_low              0.00\n",
            "Serum Creatinine_normal           1.00\n",
            "Packed Cell Volume_low            1.00\n",
            "Packed Cell Volume_normal         0.00\n",
            "Hypertension_yes                  1.00\n",
            "Diabetes Mellitus_yes             0.00\n",
            "Coronary Artery Disease_yes       0.00\n",
            "Appetite_poor                     0.00\n",
            "Pedal Edema_yes                   0.00\n",
            "Name: 42, dtype: float64\n",
            "wrong_label_pred:  0\n",
            "correct_label:  1\n",
            "---------- 5 ----------------\n",
            "sample_pred_prob:  tensor(0.9938)\n",
            "sample_index:  17\n",
            "Age                              62.00\n",
            "Blood Pressure                   80.00\n",
            "Specific Gravity                  1.01\n",
            "Albumin                           2.00\n",
            "Sugar                             3.00\n",
            "Blood Glucose Random            423.00\n",
            "Sodium                          138.00\n",
            "Potassium                         4.40\n",
            "Hemoglobin                        9.60\n",
            "White Blood Cell Count         7500.00\n",
            "Red Blood Cell Count              4.70\n",
            "Class                             0.00\n",
            "Red Blood_normal                  1.00\n",
            "Pus Cell_normal                   1.00\n",
            "Pus Cell clumps_present           0.00\n",
            "Bacteria_present                  0.00\n",
            "Blood Urea_high                   1.00\n",
            "Blood Urea_low                    0.00\n",
            "Blood Urea_normal                 0.00\n",
            "Serum Creatinine_high             1.00\n",
            "Serum Creatinine_low              0.00\n",
            "Serum Creatinine_normal           0.00\n",
            "Packed Cell Volume_low            1.00\n",
            "Packed Cell Volume_normal         0.00\n",
            "Hypertension_yes                  0.00\n",
            "Diabetes Mellitus_yes             1.00\n",
            "Coronary Artery Disease_yes       0.00\n",
            "Appetite_poor                     1.00\n",
            "Pedal Edema_yes                   0.00\n",
            "Name: 2, dtype: float64\n",
            "wrong_label_pred:  0\n",
            "correct_label:  1\n",
            "---------- 6 ----------------\n",
            "sample_pred_prob:  tensor(0.6761)\n",
            "sample_index:  55\n",
            "Age                              65.00\n",
            "Blood Pressure                   90.00\n",
            "Specific Gravity                  1.02\n",
            "Albumin                           2.00\n",
            "Sugar                             1.00\n",
            "Blood Glucose Random            270.00\n",
            "Sodium                          138.00\n",
            "Potassium                         4.40\n",
            "Hemoglobin                       12.00\n",
            "White Blood Cell Count         9800.00\n",
            "Red Blood Cell Count              4.90\n",
            "Class                             0.00\n",
            "Red Blood_normal                  0.00\n",
            "Pus Cell_normal                   1.00\n",
            "Pus Cell clumps_present           0.00\n",
            "Bacteria_present                  0.00\n",
            "Blood Urea_high                   0.00\n",
            "Blood Urea_low                    0.00\n",
            "Blood Urea_normal                 1.00\n",
            "Serum Creatinine_high             0.00\n",
            "Serum Creatinine_low              0.00\n",
            "Serum Creatinine_normal           0.00\n",
            "Packed Cell Volume_low            1.00\n",
            "Packed Cell Volume_normal         0.00\n",
            "Hypertension_yes                  1.00\n",
            "Diabetes Mellitus_yes             1.00\n",
            "Coronary Artery Disease_yes       0.00\n",
            "Appetite_poor                     1.00\n",
            "Pedal Edema_yes                   0.00\n",
            "Name: 35, dtype: float64\n",
            "wrong_label_pred:  0\n",
            "correct_label:  1\n",
            "---------- 7 ----------------\n",
            "sample_pred_prob:  tensor(0.5652)\n",
            "sample_index:  89\n",
            "Age                              60.00\n",
            "Blood Pressure                   90.00\n",
            "Specific Gravity                  1.02\n",
            "Albumin                           0.00\n",
            "Sugar                             0.00\n",
            "Blood Glucose Random            148.00\n",
            "Sodium                           45.00\n",
            "Potassium                         4.40\n",
            "Hemoglobin                       10.90\n",
            "White Blood Cell Count         6200.00\n",
            "Red Blood Cell Count              3.60\n",
            "Class                             0.00\n",
            "Red Blood_normal                  1.00\n",
            "Pus Cell_normal                   1.00\n",
            "Pus Cell clumps_present           0.00\n",
            "Bacteria_present                  0.00\n",
            "Blood Urea_high                   0.00\n",
            "Blood Urea_low                    0.00\n",
            "Blood Urea_normal                 0.00\n",
            "Serum Creatinine_high             0.00\n",
            "Serum Creatinine_low              0.00\n",
            "Serum Creatinine_normal           0.00\n",
            "Packed Cell Volume_low            1.00\n",
            "Packed Cell Volume_normal         0.00\n",
            "Hypertension_yes                  1.00\n",
            "Diabetes Mellitus_yes             1.00\n",
            "Coronary Artery Disease_yes       1.00\n",
            "Appetite_poor                     0.00\n",
            "Pedal Edema_yes                   0.00\n",
            "Name: 21, dtype: float64\n",
            "wrong_label_pred:  1\n",
            "correct_label:  0\n",
            "---------- 8 ----------------\n",
            "sample_pred_prob:  tensor(0.6620)\n",
            "sample_index:  90\n",
            "Age                              68.00\n",
            "Blood Pressure                   90.00\n",
            "Specific Gravity                  1.01\n",
            "Albumin                           0.00\n",
            "Sugar                             0.00\n",
            "Blood Glucose Random            238.00\n",
            "Sodium                          138.00\n",
            "Potassium                         4.40\n",
            "Hemoglobin                        9.80\n",
            "White Blood Cell Count         8000.00\n",
            "Red Blood Cell Count              3.30\n",
            "Class                             0.00\n",
            "Red Blood_normal                  1.00\n",
            "Pus Cell_normal                   1.00\n",
            "Pus Cell clumps_present           0.00\n",
            "Bacteria_present                  0.00\n",
            "Blood Urea_high                   1.00\n",
            "Blood Urea_low                    0.00\n",
            "Blood Urea_normal                 0.00\n",
            "Serum Creatinine_high             0.00\n",
            "Serum Creatinine_low              0.00\n",
            "Serum Creatinine_normal           0.00\n",
            "Packed Cell Volume_low            1.00\n",
            "Packed Cell Volume_normal         0.00\n",
            "Hypertension_yes                  1.00\n",
            "Diabetes Mellitus_yes             1.00\n",
            "Coronary Artery Disease_yes       0.00\n",
            "Appetite_poor                     1.00\n",
            "Pedal Edema_yes                   0.00\n",
            "Name: 219, dtype: float64\n",
            "wrong_label_pred:  1\n",
            "correct_label:  0\n",
            "---------- 9 ----------------\n",
            "sample_pred_prob:  tensor(0.9458)\n",
            "sample_index:  13\n",
            "Age                              59.00\n",
            "Blood Pressure                  100.00\n",
            "Specific Gravity                  1.02\n",
            "Albumin                           0.00\n",
            "Sugar                             0.00\n",
            "Blood Glucose Random            148.00\n",
            "Sodium                          138.00\n",
            "Potassium                         4.40\n",
            "Hemoglobin                        6.60\n",
            "White Blood Cell Count         8406.00\n",
            "Red Blood Cell Count              4.70\n",
            "Class                             0.00\n",
            "Red Blood_normal                  1.00\n",
            "Pus Cell_normal                   1.00\n",
            "Pus Cell clumps_present           0.00\n",
            "Bacteria_present                  0.00\n",
            "Blood Urea_high                   0.00\n",
            "Blood Urea_low                    0.00\n",
            "Blood Urea_normal                 0.00\n",
            "Serum Creatinine_high             0.00\n",
            "Serum Creatinine_low              0.00\n",
            "Serum Creatinine_normal           0.00\n",
            "Packed Cell Volume_low            0.00\n",
            "Packed Cell Volume_normal         1.00\n",
            "Hypertension_yes                  1.00\n",
            "Diabetes Mellitus_yes             1.00\n",
            "Coronary Artery Disease_yes       0.00\n",
            "Appetite_poor                     0.00\n",
            "Pedal Edema_yes                   0.00\n",
            "Name: 59, dtype: float64\n",
            "wrong_label_pred:  0\n",
            "correct_label:  1\n"
          ]
        }
      ]
    }
  ]
}